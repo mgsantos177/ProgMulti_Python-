{
 "cells": [
  {
   "cell_type": "markdown",
   "metadata": {},
   "source": [
    "### Exercício 09\n",
    "**Nome**: Matheus Gonçalves Santos<br>\n",
    "**RA**: 818146687"
   ]
  },
  {
   "cell_type": "markdown",
   "metadata": {},
   "source": [
    "### Números e Operações Aritméticas"
   ]
  },
  {
   "cell_type": "markdown",
   "metadata": {},
   "source": [
    "1 Faça um Programa que peça o raio de um círculo, calcule e mostre sua área"
   ]
  },
  {
   "cell_type": "code",
   "execution_count": 5,
   "metadata": {},
   "outputs": [
    {
     "name": "stdout",
     "output_type": "stream",
     "text": [
      "Digite o Raio do Circulo: 1.5\n",
      "A area do circulo é  7.065\n"
     ]
    }
   ],
   "source": [
    "pi = 3.14\n",
    "raio = float(input(\"Digite o Raio do Circulo: \"))\n",
    "area = pi*(raio*raio)\n",
    "print(\"A area do circulo é \", area)"
   ]
  },
  {
   "cell_type": "markdown",
   "metadata": {},
   "source": [
    "2 Faça um Programa que calcule a área de um quadrado, em seguida mostre o dobro\n",
    "desta área para o usuário."
   ]
  },
  {
   "cell_type": "code",
   "execution_count": 6,
   "metadata": {},
   "outputs": [
    {
     "name": "stdout",
     "output_type": "stream",
     "text": [
      "Digite a Altura: 2\n",
      "Digite a Largura: 2\n",
      "O dobro da Area é :  8.0\n"
     ]
    }
   ],
   "source": [
    "altura = float(input(\"Digite a Altura: \"))\n",
    "largura = float(input(\"Digite a Largura: \"))\n",
    "print(\"O dobro da Area é : \", 2* (altura*largura))"
   ]
  },
  {
   "cell_type": "markdown",
   "metadata": {},
   "source": [
    "3 Faça um Programa que pergunte quanto você ganha por hora e o número de horas\n",
    "trabalhadas no mês. Calcule e mostre o total do seu salário no referido mês."
   ]
  },
  {
   "cell_type": "code",
   "execution_count": 7,
   "metadata": {},
   "outputs": [
    {
     "name": "stdout",
     "output_type": "stream",
     "text": [
      "Qual seu salario/hora ? 20\n",
      "Quantas horas foram trabalhadas neste mês? 25\n",
      "Seu salario no mês sera:  500.0\n"
     ]
    }
   ],
   "source": [
    "sal = float(input(\"Qual seu salario/hora ? \"))\n",
    "hora = float(input(\"Quantas horas foram trabalhadas neste mês? \"))\n",
    "print(\"Seu salario no mês sera: \", sal* hora)"
   ]
  },
  {
   "cell_type": "markdown",
   "metadata": {},
   "source": [
    "4 Faça um Programa que peça a temperatura em graus Farenheit, transforme e\n",
    "mostre a temperatura em graus Celsius. C = (5 * (F-32) / 9)."
   ]
  },
  {
   "cell_type": "code",
   "execution_count": 8,
   "metadata": {},
   "outputs": [
    {
     "name": "stdout",
     "output_type": "stream",
     "text": [
      "Digite a temperatura em Farenheit: 100\n",
      "A temperatura em Celsius é :  37.77777777777778\n"
     ]
    }
   ],
   "source": [
    "fa = float(input(\"Digite a temperatura em Farenheit: \"))\n",
    "celsius = (5 *(fa-32)) /9\n",
    "print(\"A temperatura em Celsius é : \", celsius)\n"
   ]
  },
  {
   "cell_type": "markdown",
   "metadata": {},
   "source": [
    "5 Faça um Programa que peça a temperatura em graus Celsius, transforme e mostre\n",
    "em graus Farenheit."
   ]
  },
  {
   "cell_type": "code",
   "execution_count": 9,
   "metadata": {},
   "outputs": [
    {
     "name": "stdout",
     "output_type": "stream",
     "text": [
      "Digire a temperatura em Celsius: 37\n",
      "A temperatura em Farenheit é de:  98.6\n"
     ]
    }
   ],
   "source": [
    "ce = float(input(\"Digire a temperatura em Celsius: \"))\n",
    "fa = ((ce * 9)/5) +32 \n",
    "print(\"A temperatura em Farenheit é de: \", fa)"
   ]
  },
  {
   "cell_type": "markdown",
   "metadata": {},
   "source": [
    "6 Faça um Programa que peça 2 números inteiros e um número real. Calcule e\n",
    "mostre:\n",
    "- o produto do dobro do primeiro com metade do segundo .\n",
    "- a soma do triplo do primeiro com o terceiro.\n",
    "- o terceiro elevado ao cubo."
   ]
  },
  {
   "cell_type": "code",
   "execution_count": 11,
   "metadata": {},
   "outputs": [
    {
     "name": "stdout",
     "output_type": "stream",
     "text": [
      "Digite um numero inteiro: 5\n",
      "Digite outro numero inteiro: 4\n",
      "Digite um numero real: 2\n",
      "o produto do dobro do primeiro com metade do segundo : 12.0\n",
      "a soma do triplo do primeiro com o terceiro:  17.0\n",
      "o terceiro elevado ao cubo:  8.0\n"
     ]
    }
   ],
   "source": [
    "inteiro = int(input(\"Digite um numero inteiro: \" ))\n",
    "inteiro2= int(input(\"Digite outro numero inteiro: \"))\n",
    "real = float(input(\"Digite um numero real: \"))\n",
    "print(\"o produto do dobro do primeiro com metade do segundo :\", (inteiro*2 )+(inteiro2/2))\n",
    "print(\"a soma do triplo do primeiro com o terceiro: \", (inteiro*3) + real)\n",
    "print(\"o terceiro elevado ao cubo: \", real**3)"
   ]
  },
  {
   "cell_type": "markdown",
   "metadata": {},
   "source": [
    "7 João Papo-de-Pescador, homem de bem, comprou um microcomputador para\n",
    "controlar o rendimento diário de seu trabalho. Toda vez que ele traz um peso de\n",
    "peixes maior que o estabelecido pelo regulamento de pesca do estado de São Paulo\n",
    "(50 quilos) deve pagar uma multa de R$ 4,00 por quilo excedente. João precisa que\n",
    "você faça um programa que leia a variável peso (peso de peixes) e verifique se há\n",
    "excesso. Se houver, gravar na variável excesso e na variável multa o valor da multa\n",
    "que João deverá pagar. Caso contrário mostrar tais variáveis com o conteúdo ZERO."
   ]
  },
  {
   "cell_type": "code",
   "execution_count": 7,
   "metadata": {},
   "outputs": [
    {
     "name": "stdout",
     "output_type": "stream",
     "text": [
      "Digite o peso: 25\n",
      "Excesso:  0  kg\n",
      "Multa : R$ 0\n"
     ]
    }
   ],
   "source": [
    "peso = float(input(\"Digite o peso: \"))\n",
    "excesso=0\n",
    "multa=0\n",
    "if peso > 50:\n",
    "    excesso = peso - 50\n",
    "    multa = excesso * 4\n",
    "print(\"Excesso: \", excesso,\" kg\")\n",
    "print (\"Multa : R$\", multa)"
   ]
  },
  {
   "cell_type": "markdown",
   "metadata": {},
   "source": [
    "8 Faça um Programa que pergunte quanto você ganha por hora e o número de horas\n",
    "trabalhadas no mês. Calcule e mostre o total do seu salário no referido mês,\n",
    "sabendo-se que são descontados 11% para o Imposto de Renda, 8% para o INSS e 5%\n",
    "para o sindicato, faça um programa que nos dê:\n",
    "- salário bruto.\n",
    "- quanto pagou ao INSS.\n",
    "- quanto pagou ao sindicato.\n",
    "- o salário líquido."
   ]
  },
  {
   "cell_type": "code",
   "execution_count": 8,
   "metadata": {},
   "outputs": [
    {
     "name": "stdout",
     "output_type": "stream",
     "text": [
      "Qual seu salario/hora ? 250\n",
      "Quantas horas foram trabalhadas neste mês? 12\n",
      "Salario Bruto:  3000.0\n",
      "Valor inss:  240.0\n",
      "Sindicato:  150.0\n",
      "Imposto de Renda:  330.0\n",
      "Salario Liquido:  2280.0\n"
     ]
    }
   ],
   "source": [
    "sal = float(input(\"Qual seu salario/hora ? \"))\n",
    "hora = float(input(\"Quantas horas foram trabalhadas neste mês? \"))\n",
    "sal_bruto = sal * hora\n",
    "ir= sal_bruto * 0.11\n",
    "inss = sal_bruto * 0.08\n",
    "sindicato = sal_bruto * 0.05\n",
    "descontos = sindicato + inss + ir\n",
    "sal_liquido = sal_bruto - descontos\n",
    "print(\"Salario Bruto: \", sal * hora)\n",
    "print(\"Valor inss: \", inss)\n",
    "print(\"Sindicato: \",sindicato)\n",
    "print(\"Imposto de Renda: \", ir)\n",
    "print(\"Salario Liquido: \",sal_liquido)"
   ]
  },
  {
   "cell_type": "markdown",
   "metadata": {},
   "source": [
    "## STRINGS"
   ]
  },
  {
   "cell_type": "markdown",
   "metadata": {},
   "source": [
    "9 Faça um programa que leia 2 strings e informe o conteúdo delas seguido do seu comprimento. Informe também se as duas strings possuem o mesmo comprimento e são iguais ou diferentes no conteúdo. \n",
    "Exemplo: String 1: Brasil Hexa 2018 <BR>\n",
    "String 2: Brasil! Hexa 2018! <BR>\n",
    "Tamanho de \"Brasil Hexa 2018\": 16 caracteres <BR>\n",
    "Tamanho de \"Brasil! Hexa 2018!\": 18 caracteres <BR>\n",
    "As duas strings são de tamanhos diferentes. As duas strings possuem conteúdo diferente. "
   ]
  },
  {
   "cell_type": "code",
   "execution_count": 9,
   "metadata": {},
   "outputs": [
    {
     "name": "stdout",
     "output_type": "stream",
     "text": [
      "Digite uma string: jhvkv\n",
      "Digite outra String: hgmvj\n",
      "Tamanho de ' jhvkv ': 5  caracteres\n",
      "Tamanho de ' hgmvj ': 5  caracteres\n",
      "As duas Strings possuem conteúdo diferentes\n",
      "As duas String possuem o mesmo tamanho\n"
     ]
    }
   ],
   "source": [
    "string1=input(\"Digite uma string: \")\n",
    "string2= input (\"Digite outra String: \")\n",
    "print(\"Tamanho de '\",string1, \"':\",len(string1),\" caracteres\")\n",
    "print(\"Tamanho de '\",string2, \"':\",len(string2),\" caracteres\")\n",
    "if string1 != string2:\n",
    "    print(\"As duas Strings possuem conteúdo diferentes\")\n",
    "else:\n",
    "    print(\"As duas String possuem o mesmo conteudo\")\n",
    "if len(string1) != len(string2):\n",
    "        print(\"As duas Strings possuem tamanhos diferentes\")\n",
    "else:\n",
    "    print(\"As duas String possuem o mesmo tamanho\")\n",
    "    \n",
    "    "
   ]
  },
  {
   "cell_type": "markdown",
   "metadata": {},
   "source": [
    "10) Faça um programa que permita ao usuário digitar o seu nome e em seguida mostre o nome do usuário de trás para frente utilizando somente letras maiúsculas. Dica: lembre−se que ao informar o nome o usuário pode digitar letras maiúsculas ou minúsculas. Observação: não use loops. "
   ]
  },
  {
   "cell_type": "code",
   "execution_count": 10,
   "metadata": {},
   "outputs": [
    {
     "name": "stdout",
     "output_type": "stream",
     "text": [
      "Digite seu nome: MatGatu\n",
      "UTAGTAM\n"
     ]
    }
   ],
   "source": [
    "entrada= input(\"Digite seu nome: \")\n",
    "inverso = entrada[::-1]\n",
    "print(inverso.upper())"
   ]
  },
  {
   "cell_type": "markdown",
   "metadata": {},
   "source": [
    "11) Faça um programa que solicite a data de nascimento (dd/mm/aaaa) do usuário e imprima a data com o nome do mês por extenso.<br Data de Nascimento: 29/10/1973 Você nasceu em  29 de Outubro de 1973. <br>\n",
    "Obs.: Não use desvio condicional nem loops. "
   ]
  },
  {
   "cell_type": "code",
   "execution_count": 11,
   "metadata": {},
   "outputs": [
    {
     "name": "stdout",
     "output_type": "stream",
     "text": [
      "Informe a data de nascimento (dd/mm/aaaa): 31/10/1997\n",
      "31 de outubro de 1997\n"
     ]
    }
   ],
   "source": [
    "data = input(\"Informe a data de nascimento (dd/mm/aaaa): \")\n",
    "\n",
    "meses = [\"janeiro\",\n",
    "         \"fevereiro\",\n",
    "         \"março\",\n",
    "         \"abril\",\n",
    "         \"maio\",\n",
    "         \"junho\",\n",
    "         \"julho\",\n",
    "         \"agosto\",\n",
    "         \"setembro\",\n",
    "         \"outubro\",\n",
    "         \"novembro\",\n",
    "         \"dezembro\"]\n",
    "\n",
    "print (data.split(\"/\")[0],\n",
    "       \"de\",\n",
    "       meses[(int(data.split(\"/\")[1])-1)],\n",
    "       \"de\",\n",
    "       data.split(\"/\")[2])"
   ]
  },
  {
   "cell_type": "markdown",
   "metadata": {},
   "source": [
    "12 Leet é uma forma de se escrever o alfabeto latino usando outros símbolos em lugar das letras, como números por exemplo. A própria palavra leet admite muitas variações, como l33t ou 1337. O uso do leet reflete uma subcultura relacionada ao mundo dos jogos de computador e internet, sendo muito usada para confundir os iniciantes e afirmar-se como parte de um grupo. Pesquise sobre as principais formas de traduzir as letras. Depois, faça um programa que peça uma texto e transforme-o para a grafia leet speak. <br>Desafio: não use loops nem desvios condicionais."
   ]
  },
  {
   "cell_type": "code",
   "execution_count": 2,
   "metadata": {},
   "outputs": [
    {
     "name": "stdout",
     "output_type": "stream",
     "text": [
      "Digite algo a ser traduzido: rhvuk\n",
      "r#vuk\n"
     ]
    }
   ],
   "source": [
    "entrada = \"abceghiostz\"\n",
    "saida= \"48[36#10572\"\n",
    "tradu = str.maketrans(entrada,saida)\n",
    "\n",
    "a= input(\"Digite algo a ser traduzido: \")\n",
    "print(a.translate(tradu))"
   ]
  },
  {
   "cell_type": "markdown",
   "metadata": {},
   "source": [
    "13) Crie um programa que recebe uma lista de números e <br>- retorne o maior elemento <br>- retorne a soma dos elementos <br>- retorne o número de ocorrências do primeiro elemento da lista <br>- retorne a média dos elementos <br>- retorne o valor mais próximo da média dos elementos \n",
    "<br>- retorne a soma dos elementos com valor negativo <br>- retorne a quantidade de vizinhos iguais "
   ]
  },
  {
   "cell_type": "code",
   "execution_count": 1,
   "metadata": {},
   "outputs": [
    {
     "name": "stdout",
     "output_type": "stream",
     "text": [
      "O maior número é :  12\n",
      "A soma dos números é igual a :  9\n",
      "o primeiro valor ocorre :  1  vezes\n",
      "A media dos elementos é :  1.0\n",
      "o numero mais proximo é :  1.0\n",
      "A soma dos numero negativos é :  -10\n"
     ]
    }
   ],
   "source": [
    "def questão1(lista):\n",
    "  print(\"O maior número é : \", max(lista))\n",
    "  print(\"A soma dos números é igual a : \", sum(lista))\n",
    "  print(\"o primeiro valor ocorre : \", lista.count(lista[0]) , \" vezes\")\n",
    "  media = sum(lista)/len(lista)\n",
    "  print(\"A media dos elementos é : \", media )\n",
    "  \n",
    "  count = lista[0]\n",
    "  imp = 0\n",
    "  for i in range(1, len(lista)):\n",
    "    if(media == lista[i]):\n",
    "      imp = media\n",
    "      break\n",
    "    elif(media - lista[i] > 0 and count > media - lista[i]):\n",
    "      count = media - lista[i]\n",
    "      imp = lista[i]\n",
    "    elif(lista[i] - media > 0 and count > lista[i] - media):\n",
    "      count = lista[i] - media\n",
    "      imp = lista[i]\n",
    "  print(\"o numero mais proximo é : \", imp)\n",
    "\n",
    "  soma = 0\n",
    "  for i in range(0, len(lista)):\n",
    "    if(lista[i]< 0):\n",
    "      soma+= lista[i]\n",
    "\n",
    "  print(\"A soma dos numero negativos é : \",soma)  \n",
    "\n",
    "questão1([-10,12,1,1,1,1,1,1,1])\n"
   ]
  },
  {
   "cell_type": "markdown",
   "metadata": {},
   "source": [
    "14) Faça um programa que receba duas listas e retorne True se são iguais ou False caso contrario. Duas listas são iguais se possuem os mesmos valores e na mesma ordem. \n",
    " "
   ]
  },
  {
   "cell_type": "code",
   "execution_count": 14,
   "metadata": {},
   "outputs": [
    {
     "name": "stdout",
     "output_type": "stream",
     "text": [
      "False\n"
     ]
    }
   ],
   "source": [
    "list=[2,4,5,6,4,7]\n",
    "list2=[2,4,5,6,7,4]\n",
    "if list == list2:\n",
    "    print(True)\n",
    "else:\n",
    "    print(False)\n"
   ]
  },
  {
   "cell_type": "markdown",
   "metadata": {},
   "source": [
    "15) Faça um programa que receba duas listas e retorne True se têm os mesmos elementos ou False caso contrário <br>Duas listas possuem os mesmos elementos quando são compostas pelos mesmos valores, mas não obrigatoriamente na mesma ordem. "
   ]
  },
  {
   "cell_type": "code",
   "execution_count": 15,
   "metadata": {},
   "outputs": [
    {
     "name": "stdout",
     "output_type": "stream",
     "text": [
      "True\n"
     ]
    }
   ],
   "source": [
    "list=[2,4,5,6,4,7]\n",
    "list2=[2,4,5,6,7,4]\n",
    "if list.sort() == list2.sort():\n",
    "    print(True)\n",
    "else:\n",
    "    print(False)\n"
   ]
  },
  {
   "cell_type": "markdown",
   "metadata": {},
   "source": [
    "16 Faça um programa que percorre uma lista com o seguinte formato: [['Brasil', 'Italia', [10, 9]], ['Brasil', 'Espanha', [5, 7]], ['Italia', 'Espanha', [7,8]]]. Essa lista indica o número de faltas que cada time fez em cada jogo. Na lista acima, no jogo entre Brasil e Itália, o Brasil fez 10 faltas e a Itália fez 9. O programa deve imprimir na tela:\n",
    "\n",
    "-o total de faltas do campeonato <br>\n",
    "-o time que fez mais faltas <br>\n",
    "-o time que fez menos faltas"
   ]
  },
  {
   "cell_type": "code",
   "execution_count": 16,
   "metadata": {
    "scrolled": true
   },
   "outputs": [
    {
     "name": "stdout",
     "output_type": "stream",
     "text": [
      "Total de faltas: 46\n",
      "País mais faltoso: ['Italia', 16]\n",
      "País menos faltoso: ['Brasil', 15]\n"
     ]
    }
   ],
   "source": [
    "faltas = [['Brasil', 'Italia' ,[10,9]],\n",
    "          ['Brasil', 'Espanha',[5,7]],\n",
    "          ['Italia', 'Espanha',[7,8]]]\n",
    "print('Total de faltas:', faltas[0][2][0]+faltas[0][2][1]+\n",
    "faltas[1][2][0]+faltas[1][2][1]+\n",
    "faltas[2][2][0]+faltas[2][2][1])\n",
    "pais = [['Brasil',faltas[0][2][0]+faltas[1][2][0]],\n",
    "        ['Italia',faltas[0][2][1]+faltas[2][2][0]],\n",
    "        ['Espanha', faltas[1][2][1]+faltas[2][2][1]]]\n",
    "print('País mais faltoso:', max(pais))\n",
    "print('País menos faltoso:', min(pais))"
   ]
  },
  {
   "cell_type": "markdown",
   "metadata": {},
   "source": [
    "17) Escreva um programa que conta a quantidade de vogais em uma string e armazena tal quantidade em um dicionário, onde a chave é a vogal considerada."
   ]
  },
  {
   "cell_type": "code",
   "execution_count": 17,
   "metadata": {},
   "outputs": [
    {
     "name": "stdout",
     "output_type": "stream",
     "text": [
      "{'a': 4, 'e': 1, 'i': 1, 'o': 1, 'u': 0}\n"
     ]
    }
   ],
   "source": [
    "s = 'Asgardians of The Galaxy'\n",
    "vogais = ['a', 'e', 'i', 'o', 'u']\n",
    "totais = {vogais[0]: s.count(vogais[0]),\n",
    "          vogais[1]: s.count(vogais[1]),\n",
    "          vogais[2]: s.count(vogais[2]),\n",
    "          vogais[3]: s.count(vogais[3]),\n",
    "          vogais[4]: s.count(vogais[4])}\n",
    "print(totais)"
   ]
  },
  {
   "cell_type": "markdown",
   "metadata": {},
   "source": [
    "18) Escreva um programa que lê̂ duas notas de vários alunos e armazena tais notas em um dicionário, onde a chave é o nome do aluno. A entrada de dados deve terminar quando for lida uma string vazia como nome. Escreva uma função que retorna a média do aluno, dado seu nome. "
   ]
  },
  {
   "cell_type": "code",
   "execution_count": 2,
   "metadata": {},
   "outputs": [
    {
     "name": "stdout",
     "output_type": "stream",
     "text": [
      "Insira o nome do Aluno: Matheus\n",
      "Digite a Primeira nota: 5\n",
      "Digite a Segunda nota: 8\n",
      "Insira o nome do Aluno: Andre\n",
      "Digite a Primeira nota: 4\n",
      "Digite a Segunda nota: 2\n",
      "Insira o nome do Aluno: \n",
      "Insira o nome do aluno o qual deseja ver a média: Andre\n"
     ]
    },
    {
     "data": {
      "text/plain": [
       "3.0"
      ]
     },
     "execution_count": 2,
     "metadata": {},
     "output_type": "execute_result"
    }
   ],
   "source": [
    "dic = {}\n",
    "i = 0\n",
    "nome = input(\"Insira o nome do Aluno: \")\n",
    "while nome != \"\":\n",
    "    dic[nome] = [\n",
    "        float(input(\"Digite a Primeira nota: \")),\n",
    "        float(input(\"Digite a Segunda nota: \"))]\n",
    "    nome = input(\"Insira o nome do Aluno: \")\n",
    "def media(nome):\n",
    "    return (dic[nome][0] + dic[nome][1])/2\n",
    "media(input(\"Insira o nome do aluno o qual deseja ver a média: \")) "
   ]
  },
  {
   "cell_type": "markdown",
   "metadata": {},
   "source": [
    "19) Uma pista de Kart permite 10 voltas para cada um de 6 corredores. Escreva um programa que leia todos os tempos em segundos e os guarde em um dicionário, onde a chave é o nome do corredor. Ao final diga de quem foi a melhor volta da prova e em que volta; e ainda a classificação final em ordem (1o o campeão). O campeão é o que tem a menor média de tempos. "
   ]
  },
  {
   "cell_type": "code",
   "execution_count": 3,
   "metadata": {},
   "outputs": [
    {
     "name": "stdout",
     "output_type": "stream",
     "text": [
      "1° lugar: Huawei - 46.0 segs.\n",
      "2° lugar: Carlinhos - 48.6 segs.\n",
      "3° lugar: Douglas - 62.6 segs.\n",
      "4° lugar: Apple - 62.8 segs.\n",
      "5° lugar: Beatriz - 63.8 segs.\n",
      "6° lugar: Xiaomi - 116.0 segs.\n"
     ]
    }
   ],
   "source": [
    "import operator\n",
    "\n",
    "dic = {\n",
    "    \"Carlinhos\": [25, 38, 60, 16, 24, 77, 39, 68, 64, 75],\n",
    "    \"Douglas\": [77, 39, 68, 64, 75, 58, 61, 63, 62, 59],\n",
    "    \"Beatriz\": [79, 52, 77, 39, 68, 64, 75, 65, 59, 60],\n",
    "    \"Apple\": [56, 77, 39, 68, 64, 75, 68, 65, 56, 60],\n",
    "    \"Huawei\": [69, 55, 67, 50, 25, 38, 60, 16, 24, 56],\n",
    "    \"Xiaomi\": [56, 63, 63, 25, 38, 60, 16, 24, 753, 62]\n",
    "}\n",
    "\n",
    "volta = 0\n",
    "medias = dic\n",
    "nome = \"\"\n",
    "melhorVolta = dic[\"Carlinhos\"][0]\n",
    "for chave in dic:\n",
    "    soma = 0\n",
    "    for num in dic[chave]:\n",
    "        if num < melhorVolta:\n",
    "            melhorVolta = num\n",
    "            nome = chave\n",
    "        soma += num\n",
    "    medias[chave] = soma / 10\n",
    "\n",
    "#itemgeter 1 é a pos do valor do medias.items()\n",
    "sort = sorted(medias.items(), key=operator.itemgetter(1))\n",
    "for i in range(0, 6):\n",
    "    print(\"%s° lugar: %s - %s segs.\" % (i + 1, sort[i][0], sort[i][1]))"
   ]
  },
  {
   "cell_type": "markdown",
   "metadata": {},
   "source": [
    "20) Escreva um programa para armazenar uma agenda de telefones em um dicionário. Cada pessoa pode ter um ou mais telefones e a chave do dicionário é o nome da pessoa. Seu programa deve ter as seguintes funções: \n",
    "- incluirNovoNome – essa função acrescenta um novo nome na agenda, com um ou mais telefones. Ela deve receber como argumentos o nome e os telefones. \n",
    "- incluirTelefone – essa função acrescenta um telefone em um nome existente na agenda. Caso o nome não exista na agenda, você̂ deve perguntar se a pessoa deseja inclui-lo. Caso a resposta seja afirmativa, use a função anterior para incluir o novo nome. \n",
    "- excluirTelefone – essa função exclui um telefone de uma pessoa que já está na agenda. Se a pessoa tiver apenas um telefone, ela deve ser excluída da agenda. \n",
    "- excluirNome – essa função exclui uma pessoa da agenda. \n",
    "- consultarTelefone – essa função retorna os telefones de uma pessoa na agenda. \n",
    " \n",
    " "
   ]
  },
  {
   "cell_type": "code",
   "execution_count": 4,
   "metadata": {},
   "outputs": [
    {
     "name": "stdout",
     "output_type": "stream",
     "text": [
      "\n",
      " Escolha uma opção: \n",
      "1 - Consultar Agenda \n",
      "2 - Incluir Novo Nome\n",
      "3 - Incluir Telefone\n",
      "4 - Excluir Telefone\n",
      "0- Encerrar Programa\n",
      "0\n"
     ]
    }
   ],
   "source": [
    "agenda = {}\n",
    "\n",
    "def incluirNovoNome(nome,telefones):\n",
    "    global agenda\n",
    "    agenda[nome]= telefones\n",
    "\n",
    "def incluirTelefone(nome,telefone):\n",
    "    global agenda\n",
    "    if nome in agenda.keys():\n",
    "        agenda[nome].append(telefone)\n",
    "    else:\n",
    "        if input(\"Essa pessoa não existe, incluir na agenda ? (s/n)\") == \"s\":\n",
    "            telefones = [telefone]\n",
    "            incluirNovoNome(nome,telefones)\n",
    "def excluitTelefone(nome,telefone):\n",
    "    global agenda\n",
    "    if nome in agenda.keys():\n",
    "        if len(agenda[nome]) == 1:\n",
    "            del agenda[nome]\n",
    "        else:\n",
    "            for num in range(0,len(agenda[nome]) - 1):\n",
    "                if telefone== agenda[nome][num]:\n",
    "                    agenda[nome].pop(num)\n",
    "                    \n",
    "def consultarTelefone(nome):\n",
    "    global agenda\n",
    "    if nome in agenda.keys():\n",
    "        print(agenda[nome])\n",
    "\n",
    "opcao = 1\n",
    "while opcao !=0:\n",
    "    opcao = int(input(\"\\n Escolha uma opção: \\n1 - Consultar Agenda \\n2 - Incluir Novo Nome\\n3 - Incluir Telefone\\n4 - Excluir Telefone\\n0- Encerrar Programa\\n\"))\n",
    "    # Consultar Nome\n",
    "    if opcao ==1:\n",
    "        consultarTelefone(input(\"Insira o nome da pessoa: \"))\n",
    "    # inserir novo nome\n",
    "    elif opcao ==2:\n",
    "        nome= input(\"Insira o nome da pessoa: \")\n",
    "        telefones = []\n",
    "        telefones.append(int(input(\"Insira um telefone da pessoa: \")))\n",
    "        telefone= -1\n",
    "        while telefone != 0:\n",
    "            telefone = int(input(\"Insistir outro telefone ou digite 0 para parar: \"))\n",
    "            if telefone !=0:\n",
    "                telefones.append(telefone)\n",
    "        incluirNovoNome(nome,telefones)\n",
    "    # incluir telefone\n",
    "    elif opcao == 3:\n",
    "        nome=input(\"Insira o nome da pessoa: \")\n",
    "        telefone=(int(input(\"Insira um novo telefone: \")))\n",
    "        incluirTelefone(nome,telefone)\n",
    "    # excluir telefone\n",
    "    elif opcao ==4:\n",
    "        nome=input(\"Insira o nome da pessoa: \")\n",
    "        telefone(int(input(\"Insira o telefone da pessoa que deseja excluir: \")))\n",
    "        excluirTelefone(nome,telefone)\n",
    "\n"
   ]
  },
  {
   "cell_type": "markdown",
   "metadata": {},
   "source": [
    "21) Faça um programa que leia um arquivo texto contendo uma lista de endereços IP e gere um outro arquivo, contendo um relatório dos endereços IP válidos e inválidos. O arquivo de entrada possui o seguinte formato:\n",
    "- 200.135.80.9\n",
    "- 192.168.1.1\n",
    "- 8.35.67.74\n",
    "- 257.32.4.5\n",
    "- 85.345.1.2\n",
    "- 1.2.3.4\n",
    "- 9.8.234.5\n",
    "- 192.168.0.256\n",
    "<br><br>O arquivo de saída possui o seguinte formato:\n",
    "<br><br>[Endereços válidos:]\n",
    "- 200.135.80.9\n",
    "- 192.168.1.1\n",
    "- 8.35.67.74\n",
    "- 1.2.3.4\n",
    "<br><br>[Endereços inválidos:]\n",
    "- 257.32.4.5\n",
    "- 85.345.1.2\n",
    "- 9.8.234.5\n",
    "- 192.168.0.256"
   ]
  },
  {
   "cell_type": "code",
   "execution_count": 8,
   "metadata": {},
   "outputs": [
    {
     "name": "stdout",
     "output_type": "stream",
     "text": [
      "[Endereços válidos]\n",
      "200.135.80.9\n",
      "192.168.1.1\n",
      "8.35.67.74\n",
      "1.2.3.4\n",
      "9.8.234.5\n",
      "[Endereços inválidos]\n",
      "257.32.4.5\n",
      "85.345.1.2\n",
      "192.168.0.256\n"
     ]
    }
   ],
   "source": [
    "valido = list()\n",
    "invalido = list()\n",
    "for ip in open('lista_ip.txt', 'r'):\n",
    "    l_ip = ip.split('.')\n",
    "    #a função map aplica uma função (no caso, int) sobre\n",
    "    #cada elemento da lista\n",
    "    l_ip = list(map(int,l_ip))\n",
    "    if len(l_ip) != 4:\n",
    "        invalido.append(l_ip)\n",
    "    else:\n",
    "        for i in l_ip:\n",
    "            if i < 0 or i > 255:\n",
    "                invalido.append(l_ip)\n",
    "                break\n",
    "        else:\n",
    "            valido.append(l_ip)   \n",
    "print('[Endereços válidos]')\n",
    "for i in valido:\n",
    "    print(f'{i[0]}.{i[1]}.{i[2]}.{i[3]}')\n",
    "print('[Endereços inválidos]')\n",
    "for i in invalido:\n",
    "    print(f'{i[0]}.{i[1]}.{i[2]}.{i[3]}')"
   ]
  },
  {
   "cell_type": "raw",
   "metadata": {},
   "source": [
    "22) A ACME Inc., uma empresa de 500 funcionários, está tendo problemas de espaço\\n,\n",
    "    em disco no seu servidor de arquivos. Para tentar resolver este problema, o\\n,\n",
    "    Administrador de Rede precisa saber qual o espaço ocupado pelos usuários, e\\n,\n",
    "    identificar os usuários com maior espaço ocupado. Através de um programa, baixado\\n,\n",
    "    da Internet, ele conseguiu gerar o seguinte arquivo, chamado \\usuarios.txt\\:\\n,\n",
    "    \\n,\n",
    "        alexandre 456123789 \\n,\n",
    "        anderson 1245698456\\n,\n",
    "        antonio 123456456\\n,\n",
    "        carlos 91257581\\n,\n",
    "        cesar 987458\\n,\n",
    "        rosemary 789456125\\n,\n",
    "        \\n,\n",
    "    Neste arquivo, o nome do usuário possui 15 caracteres. A partir deste arquivo, você\\n,\n",
    "    deve criar um programa que gere um relatório, chamado \\relatório.txt\\, no seguinte\\n,\n",
    "    formato:\\n,\n",
    "    \\n,\n",
    "        ACME Inc. Uso do espaço em disco pelos usuários\\n,\n",
    "        --------------------------------------------------------------\\n,\n",
    "        ----------\\n,\n",
    "        Nr. Usuário Espaço utilizado % do uso\\n,\n",
    "        1 alexandre 434,99 MB 16,85%\\n,\n",
    "        2 anderson 1187,99 MB 46,02%\\n,\n",
    "        3 antonio 117,73 MB 4,56%\\n,\n",
    "        4 carlos 87,03 MB 3,37%\\n,\n",
    "        5 cesar 0,94 MB 0,04%\\n,\n",
    "        6 rosemary 752,88 MB 29,16%\\n,\n",
    "        Espaço total ocupado: 2581,57 MB\\n,\n",
    "        Espaço médio ocupado: 430,26 MB\\n,\n",
    "        \\n,\n",
    "    O arquivo de entrada deve ser lido uma única vez, e os dados armazenados em\\n,\n",
    "    memória, caso sejam necessários, de forma a agilizar a execução do programa. A\\n,\n",
    "    conversão da espaço ocupado em disco, de bytes para megabytes deverá ser feita\\n,\n",
    "    através de uma função separada, que será chamada pelo programa principal. O\\n,\n",
    "    cálculo do percentual de uso também deverá ser feito através de uma função, que\\n,\n",
    "    será chamada pelo programa principal.\n"
   ]
  },
  {
   "cell_type": "code",
   "execution_count": 9,
   "metadata": {},
   "outputs": [],
   "source": [
    "def paraMb(tamanho):\n",
    "    return float(tamanho/(1024*1024))\n",
    "\n",
    "def usoMemoria(tamanho,total):\n",
    "    return float(tamanho/total)*100\n",
    "\n",
    "dic={}\n",
    "total = 0\n",
    "usuarios = open(\"usuarios.txt\")\n",
    "for usuario in usuarios:\n",
    "    nome,memoria = usuario.split(\" \")\n",
    "    dic[nome]= int(memoria)\n",
    "    total += int(memoria)\n",
    "usuarios.close()\n",
    "media = total/ len(dic.keys())\n",
    "\n",
    "relatorio = open(\"relatorio.txt\", \"w+\")\n",
    "relatorio.write(\"ACME Inc.              Uso do espaço em disco pelos usuarios.\\n\")\n",
    "relatorio.write(\"------------------------------------------------------------\\n\")\n",
    "relatorio.write(\"Nr.\\tUsuario \\tEspaco utilizado\\t %do uso \\n\")\n",
    "\n",
    "nr=1\n",
    "for usuario in dic:\n",
    "    relatorio.write(str(nr) + \"\\t\" + usuario + \"\\t\" + \"  {0:.2f}\".format(paraMb(dic[usuario])) + \"MB\\t\\t\" + \"{0:.2f}\".format(usoMemoria(dic[usuario],total))+\"%\\n\")\n",
    "    nr+=1\n",
    "relatorio.write(\"Espaço total ocupado: \" + \" {0:.2f}\".format(paraMb(total)) + \"\\n\")\n",
    "relatorio.write(\"Espaço médio ocupado: \" + \"{0:.2f}\".format(paraMb(media)))\n",
    "\n",
    "relatorio.close()"
   ]
  },
  {
   "cell_type": "markdown",
   "metadata": {},
   "source": [
    "## "
   ]
  }
 ],
 "metadata": {
  "kernelspec": {
   "display_name": "Python 3",
   "language": "python",
   "name": "python3"
  },
  "language_info": {
   "codemirror_mode": {
    "name": "ipython",
    "version": 3
   },
   "file_extension": ".py",
   "mimetype": "text/x-python",
   "name": "python",
   "nbconvert_exporter": "python",
   "pygments_lexer": "ipython3",
   "version": "3.7.3"
  }
 },
 "nbformat": 4,
 "nbformat_minor": 2
}
