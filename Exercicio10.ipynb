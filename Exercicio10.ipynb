{
 "cells": [
  {
   "cell_type": "markdown",
   "metadata": {},
   "source": [
    "# Exercício 10\n",
    "**Nome**: Matheus Gonçalves Santos<br>\n",
    "**RA**: 818146687"
   ]
  },
  {
   "cell_type": "markdown",
   "metadata": {},
   "source": [
    "### Desvio Condicional "
   ]
  },
  {
   "cell_type": "markdown",
   "metadata": {},
   "source": [
    "1. Faça um Programa que peça dois números e imprima o maior deles. "
   ]
  },
  {
   "cell_type": "code",
   "execution_count": 3,
   "metadata": {},
   "outputs": [
    {
     "name": "stdout",
     "output_type": "stream",
     "text": [
      "Digite o primeiro numero: 8\n",
      "Digite o segundo numero: 8\n",
      "Os numeros tem o mesmo tamanho\n"
     ]
    }
   ],
   "source": [
    "num=float(input(\"Digite o primeiro numero: \"))\n",
    "num2= float(input(\"Digite o segundo numero: \"))\n",
    "if num > num2:\n",
    "    print(\"O primeiro numero digitado é o maior: \", num)\n",
    "elif num2 > num:\n",
    "    print(\"O Segundo numero digitado é o maior: \",num2)\n",
    "else:\n",
    "    print(\"Os numeros tem o mesmo tamanho\")"
   ]
  },
  {
   "cell_type": "markdown",
   "metadata": {},
   "source": [
    "2) Faça um Programa que verifique se uma letra digitada é vogal ou consoante. "
   ]
  },
  {
   "cell_type": "code",
   "execution_count": 5,
   "metadata": {},
   "outputs": [
    {
     "name": "stdout",
     "output_type": "stream",
     "text": [
      "Digite um caractere: b\n",
      "Consoante\n"
     ]
    }
   ],
   "source": [
    "char=input('Digite um caractere: ')\n",
    "if char=='a' or char=='e' or char=='i' or char=='o' or char=='u'or char=='A' or char=='E' or char=='I' or char=='O' or char=='U':\n",
    "    print('Vogal')\n",
    "else:\n",
    "    print('Consoante')"
   ]
  },
  {
   "cell_type": "markdown",
   "metadata": {},
   "source": [
    "3)Faça um programa para a leitura de duas notas parciais de um aluno. <br>\n",
    "O programa deve calcular a média alcançada por aluno e apresentar: <br>\n",
    " A mensagem \"Aprovado\", se a média alcançada for maior ou igual a sete; <br>\n",
    " A mensagem \"Reprovado\", se a média for menor do que sete; <br>\n",
    " A mensagem \"Aprovado com Distinção\", se a média for igual a dez. <br>"
   ]
  },
  {
   "cell_type": "code",
   "execution_count": 19,
   "metadata": {},
   "outputs": [
    {
     "name": "stdout",
     "output_type": "stream",
     "text": [
      "Digite a primeira nota: 35\n",
      "Digite a segunda nota: 2\n",
      "A media do aluno foi:  18.5\n",
      "Media Superior a 10 ou inferior a 0, erro na inserção, favor verificar.\n"
     ]
    }
   ],
   "source": [
    "nota1 = int(input('Digite a primeira nota: '))\n",
    "nota2 = int(input('Digite a segunda nota: '))\n",
    "media = (nota1 + nota2)/2\n",
    "print(\"A media do aluno foi: \", media)\n",
    "if 0<media>10:\n",
    "    print(\"Media Superior a 10 ou inferior a 0, erro na inserção, favor verificar.\")\n",
    "elif media == 10:\n",
    "    print('Aprovado com Distinção.')\n",
    "elif media >= 7 and media < 10:\n",
    "    print('Aprovado.')\n",
    "elif  media < 7 or media > 0:\n",
    "    print('Reprovado.')"
   ]
  },
  {
   "cell_type": "markdown",
   "metadata": {},
   "source": [
    "4) Faça um Programa que leia três números e mostre-os em ordem decrescente. "
   ]
  },
  {
   "cell_type": "code",
   "execution_count": 9,
   "metadata": {},
   "outputs": [
    {
     "name": "stdout",
     "output_type": "stream",
     "text": [
      "Digite o primeiro numero: 5\n",
      "Digite o segundo numero: 6\n",
      "Digite o ultimo numero: 2\n",
      "6.0 5.0 2.0\n"
     ]
    }
   ],
   "source": [
    "num1 = float(input(\"Digite o primeiro numero: \"))\n",
    "num2 = float(input(\"Digite o segundo numero: \"))\n",
    "num3 = float(input(\"Digite o ultimo numero: \"))\n",
    "maior=0\n",
    "menor=0\n",
    "meio=0\n",
    "if num1 >= num2 and num1 >= num3:\n",
    "    maior= num1\n",
    "elif num2 > num1 and num2 >= num3:\n",
    "    maior = num2\n",
    "else:\n",
    "    maior = num3\n",
    "\n",
    "if num1 < num2 and num1 < num3:\n",
    "    menor= num1\n",
    "elif num2 < num1 and num2 < num3:\n",
    "    menor = num2\n",
    "else:\n",
    "    menor = num3\n",
    "    \n",
    "if num1 > menor and num1 < maior:\n",
    "    meio = num1\n",
    "elif num2 > menor and num2 < maior:\n",
    "    meio = num2\n",
    "else:\n",
    "    meio = num3 \n",
    "\n",
    "print(maior,meio,menor)\n"
   ]
  },
  {
   "cell_type": "code",
   "execution_count": 10,
   "metadata": {},
   "outputs": [
    {
     "name": "stdout",
     "output_type": "stream",
     "text": [
      "Digite um numero: 4\n",
      "Digite um Segundo: 2\n",
      "Digite um Terceiro: 5\n",
      "[5.0, 4.0, 2.0]\n"
     ]
    }
   ],
   "source": [
    "mylist= []\n",
    "mylist.append((float(input(\"Digite um numero: \"))))\n",
    "mylist.append((float(input(\"Digite um Segundo: \"))))\n",
    "mylist.append((float(input(\"Digite um Terceiro: \"))))\n",
    "mylist.sort()\n",
    "mylist.reverse()\n",
    "print(mylist)"
   ]
  },
  {
   "cell_type": "markdown",
   "metadata": {},
   "source": [
    "5) As Organizações Tabajara resolveram dar um aumento de salário aos seus colaboradores e lhe contrataram para desenvolver o programa que calculará os reajustes. Faça um programa que recebe o salário de um colaborador e o reajuste segundo o seguinte critério, baseado no salário atual: \n",
    "- salários até RS 280,00 (incluindo) : aumento de 20 % \n",
    "- salários entre RS 280,00 e RS 700,00 : aumento de 15 % \n",
    "- salários entre RS 700,00 e RS 1500,00 : aumento de 10 % \n",
    "- salários de RS 1500,00 em diante : aumento de 5 % <br>\n",
    "Após o aumento ser realizado, informe na tela: \n",
    "- o salário antes do reajuste; \n",
    "- o percentual de aumento aplicado; \n",
    "- o valor do aumento; \n",
    "- o novo salário, após o aumento. \n",
    " "
   ]
  },
  {
   "cell_type": "code",
   "execution_count": 21,
   "metadata": {},
   "outputs": [
    {
     "name": "stdout",
     "output_type": "stream",
     "text": [
      "Digite o Salario: 1501\n",
      "Salario antes do aumento:  1501.0\n",
      "O aumento foi de  5 %\n",
      "O aumento foi de  75.05\n",
      "O novo salario é  1576.05\n"
     ]
    }
   ],
   "source": [
    "salario = float(input('Digite o Salario: '))\n",
    "aumento = 0\n",
    "porcent=0\n",
    "if salario <=280:\n",
    "    aumento= salario * 0.20\n",
    "    porcent=20\n",
    "elif salario >280 and salario <=700:\n",
    "    aumento= salario * 0.15\n",
    "    porcent=15\n",
    "elif salario >700 and salario <=1500:\n",
    "    aumento= salario * 0.10\n",
    "    porcent=10\n",
    "else: \n",
    "    aumento= salario * 0.05\n",
    "    porcent= 5\n",
    "    \n",
    "print(\"Salario antes do aumento: \",salario)\n",
    "print(\"O aumento foi de \", porcent ,\"%\")\n",
    "print(\"O aumento foi de \", aumento)\n",
    "print(\"O novo salario é \", salario+aumento)\n"
   ]
  },
  {
   "cell_type": "markdown",
   "metadata": {},
   "source": [
    "6) Faça um Programa que leia um número e exiba o dia correspondente da semana. (1-Domingo, 2- Segunda, etc.), se digitar outro valor deve aparecer valor inválido. "
   ]
  },
  {
   "cell_type": "code",
   "execution_count": 23,
   "metadata": {
    "scrolled": true
   },
   "outputs": [
    {
     "name": "stdout",
     "output_type": "stream",
     "text": [
      "Digite o dia da semana: 10\n",
      "Valor Invalido\n"
     ]
    }
   ],
   "source": [
    "dias=[\"Domingo\",\"Segunda\",\"Terça\",\"Quarta\",\"Quinta\",\"Sexta\",\"Sabado\"]\n",
    "entrada= int(input(\"Digite o dia da semana: \"))\n",
    "if entrada >= 8 or entrada <=0 : \n",
    "    print(\"Valor Invalido\")\n",
    "else:\n",
    "    print(dias[entrada-1])"
   ]
  },
  {
   "cell_type": "markdown",
   "metadata": {},
   "source": [
    "7) Faça um programa que lê as duas notas parciais obtidas por um aluno numa disciplina ao longo de um semestre, e calcule a sua média. A atribuição de conceitos obedece à tabela abaixo:  \n",
    "- Média de Aproveitamento  Conceito   \n",
    "- Entre 9.0 e 10.0         A   \n",
    "- Entre 7.5 e 9.0          B   \n",
    "- Entre 6.0 e 7.5          C   \n",
    "- Entre 4.0 e 6.0          D   \n",
    "- Entre 4.0 e zero         E <br>\n",
    "O algoritmo deve mostrar na tela as notas, a média, o conceito correspondente e a mensagem “APROVADO” se o conceito for A, B ou C ou “REPROVADO” se o conceito for D ou E. \n",
    " "
   ]
  },
  {
   "cell_type": "code",
   "execution_count": 25,
   "metadata": {},
   "outputs": [
    {
     "name": "stdout",
     "output_type": "stream",
     "text": [
      "Digite a primeira nota: 10\n",
      "Digite a Segunda nota: 2\n",
      "As notas do aluno foram:  10.0 e 2.0\n",
      "Portanto sua media é:  6.0\n",
      "Aluno ficou com o Conceito C\n",
      "APROVADO\n"
     ]
    }
   ],
   "source": [
    "nota1=float(input(\"Digite a primeira nota: \"))\n",
    "nota2=float(input(\"Digite a Segunda nota: \"))\n",
    "situação=''\n",
    "media = (nota1 + nota2)/2\n",
    "print(\"As notas do aluno foram: \", nota1 , \"e\" ,  nota2)\n",
    "print(\"Portanto sua media é: \", media)\n",
    "\n",
    "\n",
    "if media >= 9 and media ==10:\n",
    "    situacao = \"A\"\n",
    "    print(\"Aluno ficou com o Conceito A\")\n",
    "    print(\"APROVADO\")\n",
    "elif media >= 7.5 and media <9 :\n",
    "    situacao = \"B\"\n",
    "    print(\"Aluno ficou com o Conceito B\")\n",
    "    print(\"APROVADO\")\n",
    "elif media >= 6 and media <7.5 :\n",
    "    situacao = \"C\"\n",
    "    print(\"Aluno ficou com o Conceito C\")\n",
    "    print(\"APROVADO\")\n",
    "elif media >= 4 and media <6 :\n",
    "    situacao = \"D\"\n",
    "    print(\"Aluno ficou com o Conceito D\")\n",
    "    print(\"REPROVADO\")\n",
    "elif media >= 0 and media < 4 :\n",
    "    situacao = \"E\"\n",
    "    print(\"Aluno ficou com o Conceito E\")\n",
    "    print(\"REPROVADO\")\n",
    "else:\n",
    "    print(\"Media Superior a 10 ou inferior a 0, erro na inserção, favor verificar.\")\n",
    "\n",
    "\n"
   ]
  },
  {
   "cell_type": "markdown",
   "metadata": {},
   "source": [
    "8) Faça um Programa que peça os 3 lados de um triângulo. O programa deverá informar se os valores podem ser um triângulo. Indique, caso os lados formem um triângulo, se o mesmo é: equilátero, isósceles ou escaleno.\n",
    "Dicas: \n",
    "- Três lados formam um triângulo quando a soma de quaisquer dois lados for maior que o terceiro; \n",
    "- Triângulo Equilátero: três lados iguais; \n",
    "- Triângulo Isósceles: quaisquer dois lados iguais; \n",
    "- Triângulo Escaleno: três lados diferentes; "
   ]
  },
  {
   "cell_type": "code",
   "execution_count": 26,
   "metadata": {},
   "outputs": [
    {
     "name": "stdout",
     "output_type": "stream",
     "text": [
      "Lado 1: 2\n",
      "Lado 2: 3\n",
      "Lado 3: 4\n",
      "Escaleno\n"
     ]
    }
   ],
   "source": [
    "l1 = int(input(\"Lado 1: \"))\n",
    "l2 = int(input(\"Lado 2: \"))\n",
    "l3 = int(input(\"Lado 3: \"))\n",
    "\n",
    "if l1 > (l2 + l3) or l2 > (l1 + l3) or l3 > (l1 + l2):\n",
    "    print(\"Não pode ser um triangulo\")\n",
    "elif l1 == l2 == l3:\n",
    "    print (\"Equilatero\")\n",
    "elif l1 == l2 or l1 == l3 or l2 == l3:\n",
    "    print(\"Isósceles\")\n",
    "else:\n",
    "    print(\"Escaleno\")"
   ]
  },
  {
   "cell_type": "markdown",
   "metadata": {},
   "source": [
    "9) Faça um programa que calcule as raízes de uma equação do segundo grau, na forma ax2 + bx + c. O programa deverá pedir os valores de a, b e c e fazer as consistências, informando ao usuário nas seguintes situações: \n",
    "- Se o usuário informar o valor de A igual a zero, a equação não é do segundo grau e o programa não deve fazer pedir os demais valores, sendo encerrado; \n",
    "- Se o delta calculado for negativo, a equação não possui raizes reais. Informe ao usuário e encerre o programa; \n",
    "- Se o delta calculado for igual a zero a equação possui apenas uma raiz real; informe-a ao usuário; \n",
    "- Se o delta for positivo, a equação possui duas raiz reais; informe-as ao usuário; "
   ]
  },
  {
   "cell_type": "code",
   "execution_count": 27,
   "metadata": {},
   "outputs": [
    {
     "name": "stdout",
     "output_type": "stream",
     "text": [
      "Bem vindos ao programa de calculo de Equação do Segundo Grau\n",
      "Por favor, inseira o valor de a: 4\n",
      "Insira o valor de b: 2\n",
      "Por fim, insira o valor de c: 1\n",
      "Calculando o Delta..\n",
      "Delta negativo, equação não possui raizes reais\n"
     ]
    }
   ],
   "source": [
    "print(\"Bem vindos ao programa de calculo de Equação do Segundo Grau\")\n",
    "a = int(input((\"Por favor, inseira o valor de a: \")))\n",
    "b = int(input(\"Insira o valor de b: \"))\n",
    "c = int(input(\"Por fim, insira o valor de c: \"))\n",
    "\n",
    "delta = 0\n",
    "raiz1 = 0\n",
    "raiz2 = 0\n",
    "\n",
    "if a == 0:\n",
    "    print(\"Não é uma equação de Segundo Grau\")\n",
    "    \n",
    "else:\n",
    "    print(\"Calculando o Delta..\")\n",
    "    delta = (((b**2) - (4*a*c)))\n",
    "\n",
    "if delta <0:\n",
    "    print(\"Delta negativo, equação não possui raizes reais\")\n",
    "\n",
    "elif delta == 0:\n",
    "    raiz1= ((-b)+(delta**(1/2))/(2*a))\n",
    "    print(\"A equação possui apenas uma raiz: \", raiz1 )\n",
    "    \n",
    "else:\n",
    "        raiz1= ((-b)+(delta**(1/2))/(2*a))\n",
    "        raiz2= ((-b)-(delta**(1/2))/(2*a))\n",
    "        print(f\"A equação possui duas raizes que são: {raiz1:5.5f} e {raiz2:5.5f}\")\n"
   ]
  },
  {
   "cell_type": "markdown",
   "metadata": {},
   "source": [
    "10) Faça um Programa para um caixa eletrônico. O programa deverá perguntar ao usuário a valor do saque e depois informar quantas notas de cada valor serão fornecidas. As notas disponíveis serão as de 1, 5, 10, 50 e 100 reais. O valor mínimo é de 10 reais e o máximo de 600 reais. O programa não deve se preocupar com a quantidade de notas existentes na máquina. \n",
    "- Exemplo 1: Para sacar a quantia de 256 reais, o programa fornece duas notas de 100, uma nota de 50, uma nota de 5 e uma nota de 1; \n",
    "- Exemplo 2: Para sacar a quantia de 399 reais, o programa fornece três notas de 100, uma nota de 50, quatro notas de 10, uma nota de 5 e quatro notas de 1. \n",
    " "
   ]
  },
  {
   "cell_type": "code",
   "execution_count": 28,
   "metadata": {},
   "outputs": [
    {
     "name": "stdout",
     "output_type": "stream",
     "text": [
      "Informe o valor que deseja sacar: 568\n",
      "5  Notas de 100\n",
      "1  Notas de 50\n",
      "1  Notas de 10\n",
      "1  Notas de 5\n",
      "3  Notas de 1\n"
     ]
    }
   ],
   "source": [
    "saque = int(input(\"Informe o valor que deseja sacar: \"))\n",
    "\n",
    "if 10 <=  saque <=600:\n",
    "    nota_cem = saque //100\n",
    "    saque = saque % 100\n",
    "    \n",
    "    nota_50 = saque //50\n",
    "    saque = saque % 50\n",
    "    \n",
    "    nota_10 = saque//10\n",
    "    saque = saque % 10\n",
    "    \n",
    "    nota_5 = saque //5\n",
    "    saque = saque % 5\n",
    "    \n",
    "    nota_1= saque //1\n",
    "    saque = saque % 1\n",
    "    \n",
    "if nota_cem >0:\n",
    "    print(nota_cem, \" Notas de 100\")\n",
    "if nota_50 >0:\n",
    "    print(nota_50, \" Notas de 50\")\n",
    "if nota_10 > 0:\n",
    "    print(nota_10, \" Notas de 10\")\n",
    "if nota_5 > 0:\n",
    "    print(nota_5, \" Notas de 5\")\n",
    "if nota_1 > 0:\n",
    "    print(nota_1, \" Notas de 1\")"
   ]
  },
  {
   "cell_type": "markdown",
   "metadata": {},
   "source": [
    "11) Faça um programa que faça 5 perguntas para uma pessoa sobre um crime. \n",
    "As perguntas são: <br> \"Telefonou para a vítima?\" <br> \"Esteve no local do crime?\" <br>\"Mora perto da vítima?\" <br>\"Devia para a vítima?\"<br>\"Já trabalhou com a vítima?\"  <br> O programa deve no final emitir uma classificação sobre a participação da pessoa no crime. Se a pessoa responder positivamente a 2 questões ela deve ser classificada como \"Suspeita\", entre 3 e 4 como \"Cúmplice\" e 5 como \"Assassino\". Caso contrário, ele será classificado como \"Inocente\". \n",
    " "
   ]
  },
  {
   "cell_type": "code",
   "execution_count": 7,
   "metadata": {},
   "outputs": [
    {
     "name": "stdout",
     "output_type": "stream",
     "text": [
      "Telefonou para a vítima?sim\n",
      "Esteve no local do crime?sim\n",
      "Mora perto da vítima?sim\n",
      "Devia para a vítima?sim\n",
      "Já trabalhou com a vítima?nao\n",
      "CÚMPLICE\n"
     ]
    }
   ],
   "source": [
    "sim= 0 \n",
    "\n",
    "\n",
    "p1= input(\"Telefonou para a vítima?\" )\n",
    "if p1 == \"sim\":\n",
    "    sim += 1\n",
    "p2= input(\"Esteve no local do crime?\"  )\n",
    "if p2 == \"sim\":\n",
    "    sim += 1\n",
    "p3= input(\"Mora perto da vítima?\"  )\n",
    "if p3 == \"sim\":\n",
    "    sim += 1\n",
    "p4= input(\"Devia para a vítima?\")\n",
    "if p4 == \"sim\":\n",
    "    sim += 1\n",
    "p5= input(\"Já trabalhou com a vítima?\" )\n",
    "if p5 == \"sim\":\n",
    "    sim += 1  \n",
    "if sim ==2:\n",
    "    print(\"SUSPEITO\")\n",
    "elif 2 < sim <= 4:\n",
    "    print(\"CÚMPLICE\")\n",
    "elif sim ==5:\n",
    "    print(\"ASSASSINO SAFADO\")\n",
    "else:\n",
    "    print(\"INOCENTE\")"
   ]
  },
  {
   "cell_type": "raw",
   "metadata": {},
   "source": [
    "12) Uma fruteira está vendendo frutas com a seguinte tabela de preços: \n",
    "\n",
    "- Até 5 kg = morango R$ 2,50 O KG e Maçã r$ 1,80\n",
    "- Acima = morango r$ 1,80 e maçã r$ 1,50\n",
    " \n",
    "Se o cliente comprar mais de 8 Kg em frutas ou o valor total da compra ultrapassar R$ 25,00, receberá ainda um desconto de 10% sobre este total. Escreva um algoritmo para ler a quantidade (em Kg) de morangos e a quantidade (em Kg) de maças adquiridas e escreva o valor a ser pago pelo cliente. \n",
    " "
   ]
  },
  {
   "cell_type": "code",
   "execution_count": 29,
   "metadata": {},
   "outputs": [
    {
     "name": "stdout",
     "output_type": "stream",
     "text": [
      "Quantidade de morangos: 5\n",
      "Quantidade de maçã: 2\n",
      "Valor total dos Morangos:  12.5\n",
      "Valor total das Maçãs:  3.6\n",
      "Valor total a ser pago pelo cliente:  16.1\n"
     ]
    }
   ],
   "source": [
    "morango = int(input(\"Quantidade de morangos: \"))\n",
    "maca = int(input(\"Quantidade de maçã: \"))\n",
    "\n",
    "valor_morango = 2.50\n",
    "valor_maca=1.80\n",
    "total_kg = morango + maca\n",
    "total_valor = 0\n",
    "\n",
    "if morango > 5:\n",
    "    valor_morango = 1.80\n",
    "if maca > 5:\n",
    "    valor_maca=1.50\n",
    "    \n",
    "total_valor = (maca * valor_maca) + (morango * valor_morango)\n",
    "\n",
    "if total_valor >25 or total_kg > 8:\n",
    "    total_valor -= total_valor *0.10\n",
    "\n",
    "print(\"Valor total dos Morangos: \", morango * valor_morango)\n",
    "print(\"Valor total das Maçãs: \", maca * valor_maca)\n",
    "print(\"Valor total a ser pago pelo cliente: \", total_valor)"
   ]
  },
  {
   "cell_type": "markdown",
   "metadata": {},
   "source": [
    "13) Faça um programa que peça uma nota, entre zero e dez. Mostre uma mensagem caso o valor seja inválido e continue pedindo até que o usuário informe um valor válido. \n",
    " "
   ]
  },
  {
   "cell_type": "code",
   "execution_count": 30,
   "metadata": {},
   "outputs": [
    {
     "name": "stdout",
     "output_type": "stream",
     "text": [
      "Digite uma nota de 0 a 10: 2\n",
      "Nota: 2.0\n"
     ]
    }
   ],
   "source": [
    "nota = int(input(\"Digite uma nota de 0 a 10: \"))\n",
    "while nota < 0 or nota > 10:\n",
    "    print(\"Nota inválida, digite apenas uma nota de 0 a 10\")\n",
    "    nota = float(input(\"Digite uma nota de 0 a 10: \"))\n",
    "    \n",
    "print(\"Nota: %.1f\" %nota)"
   ]
  },
  {
   "cell_type": "markdown",
   "metadata": {},
   "source": [
    "13) Faça um programa que leia e valide as seguintes informações: \n",
    "- Nome: maior que 3 caracteres; \n",
    "- Idade: entre 0 e 150; \n",
    "- Salário: maior que zero; \n",
    "- Sexo: 'f' ou 'm'; \n",
    "- Estado Civil: 's', 'c', 'v', 'd'; "
   ]
  },
  {
   "cell_type": "code",
   "execution_count": null,
   "metadata": {},
   "outputs": [],
   "source": [
    "nome = ''\n",
    "idade = -1\n",
    "salario = 0\n",
    "sexo = ''\n",
    "estado_civil = ''\n",
    "\n",
    "while len(nome)<=3:\n",
    "      nome = input('Nome: ')\n",
    "while idade <0:\n",
    "    idade = int(input(\"Digite a idade: \"))\n",
    "while salario <= 0:\n",
    "    salario= float(input(\"Digite Salario: \"))\n",
    "while sexo != 'f' or sexo != 'm':\n",
    "    sexo = input(\"Digite o sexo: (m ou f)\")\n",
    "while estado_civil != 's' or estado_civil != 'c' or estado_civil != 'v' or estado_civil != 'd':\n",
    "    estado_civil = input(\"Digite o estado civil: (s,c,v ou d)\")"
   ]
  },
  {
   "cell_type": "markdown",
   "metadata": {},
   "source": [
    "14) Faça um programa que leia 5 números e informe o maior número. "
   ]
  },
  {
   "cell_type": "code",
   "execution_count": 31,
   "metadata": {},
   "outputs": [
    {
     "name": "stdout",
     "output_type": "stream",
     "text": [
      "Digite um numero: 5\n",
      "Digite um numero: 2\n",
      "Digite um numero: 1\n",
      "Digite um numero: 5\n",
      "Digite um numero: 0\n",
      "Maior numero é:  5\n"
     ]
    }
   ],
   "source": [
    "maior = 0\n",
    "i = 1\n",
    "while i <=5 :\n",
    "    a = int(input(\"Digite um numero: \"))\n",
    "    if a > maior:\n",
    "        maior = a\n",
    "    i+=1\n",
    "print(\"Maior numero é: \", maior)"
   ]
  },
  {
   "cell_type": "markdown",
   "metadata": {},
   "source": [
    "15) Faça um programa que leia 5 números e informe a soma e a média dos números. "
   ]
  },
  {
   "cell_type": "code",
   "execution_count": 13,
   "metadata": {},
   "outputs": [
    {
     "name": "stdout",
     "output_type": "stream",
     "text": [
      "Digite um numero: 5\n",
      "Digite um numero: 4\n",
      "Digite um numero: 258\n",
      "Digite um numero: 85\n",
      "Digite um numero: 4\n",
      "Soma total:  356\n",
      "Media:  71.2\n"
     ]
    }
   ],
   "source": [
    "soma=0\n",
    "i = 1\n",
    "while i <=5:\n",
    "    a = int(input(\"Digite um numero: \"))\n",
    "    soma+=a\n",
    "    i+=1\n",
    "print(\"Soma total: \", soma)\n",
    "print(\"Media: \",soma/ (i - 1))"
   ]
  },
  {
   "cell_type": "markdown",
   "metadata": {},
   "source": [
    "16) Faça um programa que imprima na tela apenas os números ímpares entre 1 e 50. \n",
    " "
   ]
  },
  {
   "cell_type": "code",
   "execution_count": 14,
   "metadata": {
    "scrolled": true
   },
   "outputs": [
    {
     "name": "stdout",
     "output_type": "stream",
     "text": [
      "1\n",
      "3\n",
      "5\n",
      "7\n",
      "9\n",
      "11\n",
      "13\n",
      "15\n",
      "17\n",
      "19\n",
      "21\n",
      "23\n",
      "25\n",
      "27\n",
      "29\n",
      "31\n",
      "33\n",
      "35\n",
      "37\n",
      "39\n",
      "41\n",
      "43\n",
      "45\n",
      "47\n",
      "49\n"
     ]
    }
   ],
   "source": [
    "for i in range(1,51,2):\n",
    "    print (i)"
   ]
  },
  {
   "cell_type": "markdown",
   "metadata": {},
   "source": [
    "17) Desenvolva um gerador de tabuada, capaz de gerar a tabuada de qualquer número inteiro entre 1 a 10. O usuário deve informar de qual numero ele deseja ver a tabuada. A saída deve ser conforme o exemplo abaixo: \n",
    "<br>Tabuada de 5:<br> 5 X 1 = 5 <br>5 X 2 = 10<br> ...<br> 5 X 10 = 50 \n",
    " "
   ]
  },
  {
   "cell_type": "code",
   "execution_count": 32,
   "metadata": {},
   "outputs": [
    {
     "name": "stdout",
     "output_type": "stream",
     "text": [
      "Tabuado do número: 5\n",
      "5 x 1 = 5 \n",
      "5 x 2 = 10 \n",
      "5 x 3 = 15 \n",
      "5 x 4 = 20 \n",
      "5 x 5 = 25 \n",
      "5 x 6 = 30 \n",
      "5 x 7 = 35 \n",
      "5 x 8 = 40 \n",
      "5 x 9 = 45 \n",
      "5 x 10 = 50 \n"
     ]
    }
   ],
   "source": [
    "entrada=int(input(\"Tabuado do número: \"))\n",
    "for count in range(10):\n",
    "    print(\"%d x %d = %d \" % (entrada,count+1, entrada*(count + 1 )))"
   ]
  },
  {
   "cell_type": "markdown",
   "metadata": {},
   "source": [
    "18) A série de Fibonacci é formada pela seqüência 1,1,2,3,5,8,13,21,34,55,... Faça um programa capaz de gerar a série até o n−ésimo termo. "
   ]
  },
  {
   "cell_type": "code",
   "execution_count": 21,
   "metadata": {},
   "outputs": [
    {
     "name": "stdout",
     "output_type": "stream",
     "text": [
      "Digite um numero: 89\n",
      "1\n",
      "1\n",
      "2\n",
      "3\n",
      "5\n",
      "8\n",
      "13\n",
      "21\n",
      "34\n",
      "55\n"
     ]
    }
   ],
   "source": [
    "def fibonacci(n):\n",
    "    a,b= 0,1\n",
    "    while b < n:\n",
    "        print(b)\n",
    "        a,b = b, a+b\n",
    "\n",
    "entrada = int(input(\"Digite um numero: \"))\n",
    "fibonacci(entrada)"
   ]
  },
  {
   "cell_type": "markdown",
   "metadata": {},
   "source": [
    "19) Faça um programa que calcule o fatorial de um número inteiro fornecido pelo usuário. Ex.: 5!=5.4.3.2.1=120"
   ]
  },
  {
   "cell_type": "code",
   "execution_count": 26,
   "metadata": {},
   "outputs": [
    {
     "name": "stdout",
     "output_type": "stream",
     "text": [
      "Digite um numero: 5\n",
      "Fatorial do numero digitado é: 120.00\n"
     ]
    }
   ],
   "source": [
    "numero = int(input(\"Digite um numero: \"))\n",
    "fatorial = numero\n",
    "while fatorial !=1:\n",
    "    fatorial -= 1\n",
    "    numero = numero*fatorial\n",
    "    aux = numero\n",
    "\n",
    "print(\"Fatorial do numero digitado é: %.2f\" %numero)"
   ]
  },
  {
   "cell_type": "markdown",
   "metadata": {},
   "source": [
    "20) O Sr. Manoel Joaquim possui uma grande loja de artigos de RS 1,99, com cerca de 10 caixas. Para agilizar o cálculo de quanto cada cliente deve pagar ele desenvolveu um tabela que contém o número de itens que o cliente comprou e ao lado o valor da conta. Desta forma a atendente do caixa precisa apenas contar quantos itens o cliente está levando e olhar na tabela de preços. Você foi contratado para desenvolver o programa que monta esta tabela de preços, que conterá os preços de 1 até 50 produtos, conforme o exemplo abaixo: <br>\n",
    " Lojas Quase Dois - Tabela de preços \n",
    "1. RS 1.99 \n",
    "2. RS 3.98 <br>\n",
    "... \n",
    "50. RS 99.50"
   ]
  },
  {
   "cell_type": "code",
   "execution_count": 28,
   "metadata": {},
   "outputs": [
    {
     "name": "stdout",
     "output_type": "stream",
     "text": [
      "Tabelas de preços\n",
      "01 - R$ 1.99\n",
      "02 - R$ 3.98\n",
      "03 - R$ 5.97\n",
      "04 - R$ 7.96\n",
      "05 - R$ 9.95\n",
      "06 - R$ 11.94\n",
      "07 - R$ 13.93\n",
      "08 - R$ 15.92\n",
      "09 - R$ 17.91\n",
      "10 - R$ 19.90\n",
      "11 - R$ 21.89\n",
      "12 - R$ 23.88\n",
      "13 - R$ 25.87\n",
      "14 - R$ 27.86\n",
      "15 - R$ 29.85\n",
      "16 - R$ 31.84\n",
      "17 - R$ 33.83\n",
      "18 - R$ 35.82\n",
      "19 - R$ 37.81\n",
      "20 - R$ 39.80\n",
      "21 - R$ 41.79\n",
      "22 - R$ 43.78\n",
      "23 - R$ 45.77\n",
      "24 - R$ 47.76\n",
      "25 - R$ 49.75\n",
      "26 - R$ 51.74\n",
      "27 - R$ 53.73\n",
      "28 - R$ 55.72\n",
      "29 - R$ 57.71\n",
      "30 - R$ 59.70\n",
      "31 - R$ 61.69\n",
      "32 - R$ 63.68\n",
      "33 - R$ 65.67\n",
      "34 - R$ 67.66\n",
      "35 - R$ 69.65\n",
      "36 - R$ 71.64\n",
      "37 - R$ 73.63\n",
      "38 - R$ 75.62\n",
      "39 - R$ 77.61\n",
      "40 - R$ 79.60\n",
      "41 - R$ 81.59\n",
      "42 - R$ 83.58\n",
      "43 - R$ 85.57\n",
      "44 - R$ 87.56\n",
      "45 - R$ 89.55\n",
      "46 - R$ 91.54\n",
      "47 - R$ 93.53\n",
      "48 - R$ 95.52\n",
      "49 - R$ 97.51\n",
      "50 - R$ 99.50\n"
     ]
    }
   ],
   "source": [
    "x = 1\n",
    "valor = 1.99\n",
    "\n",
    "print(\"Tabelas de preços\")\n",
    "\n",
    "while x <= 50:\n",
    "    print(\"%02.d - R$ %.2f\"%(x,x*valor))\n",
    "    x += 1"
   ]
  },
  {
   "cell_type": "markdown",
   "metadata": {},
   "source": [
    "21) O Sr. Manoel Joaquim acaba de adquirir uma panificadora e pretende implantar a metodologia da tabelinha, que já é um sucesso na sua loja de 1,99. Você foi contratado para desenvolver o programa que monta a tabela de preços de pães, de 1 até 50 pães, a partir do preço do pão informado pelo usuário, conforme o exemplo abaixo: <BR>\n",
    " Preço do pão: R$ 0.18 \n",
    " Panificadora Pão de Ontem - Tabela de preços <BR>\n",
    "1. RS 0.18 \n",
    "2. RS 0.36 \n",
    " ... <BR>\n",
    "50. RS 9.00"
   ]
  },
  {
   "cell_type": "code",
   "execution_count": 30,
   "metadata": {},
   "outputs": [
    {
     "name": "stdout",
     "output_type": "stream",
     "text": [
      "Digite o preço do Pão: 0.15\n",
      "Panificadora Pão de Ontem - Tabela de preços\n",
      "01 - R$ 0.15\n",
      "02 - R$ 0.30\n",
      "03 - R$ 0.45\n",
      "04 - R$ 0.60\n",
      "05 - R$ 0.75\n",
      "06 - R$ 0.90\n",
      "07 - R$ 1.05\n",
      "08 - R$ 1.20\n",
      "09 - R$ 1.35\n",
      "10 - R$ 1.50\n",
      "11 - R$ 1.65\n",
      "12 - R$ 1.80\n",
      "13 - R$ 1.95\n",
      "14 - R$ 2.10\n",
      "15 - R$ 2.25\n",
      "16 - R$ 2.40\n",
      "17 - R$ 2.55\n",
      "18 - R$ 2.70\n",
      "19 - R$ 2.85\n",
      "20 - R$ 3.00\n",
      "21 - R$ 3.15\n",
      "22 - R$ 3.30\n",
      "23 - R$ 3.45\n",
      "24 - R$ 3.60\n",
      "25 - R$ 3.75\n",
      "26 - R$ 3.90\n",
      "27 - R$ 4.05\n",
      "28 - R$ 4.20\n",
      "29 - R$ 4.35\n",
      "30 - R$ 4.50\n",
      "31 - R$ 4.65\n",
      "32 - R$ 4.80\n",
      "33 - R$ 4.95\n",
      "34 - R$ 5.10\n",
      "35 - R$ 5.25\n",
      "36 - R$ 5.40\n",
      "37 - R$ 5.55\n",
      "38 - R$ 5.70\n",
      "39 - R$ 5.85\n",
      "40 - R$ 6.00\n",
      "41 - R$ 6.15\n",
      "42 - R$ 6.30\n",
      "43 - R$ 6.45\n",
      "44 - R$ 6.60\n",
      "45 - R$ 6.75\n",
      "46 - R$ 6.90\n",
      "47 - R$ 7.05\n",
      "48 - R$ 7.20\n",
      "49 - R$ 7.35\n",
      "50 - R$ 7.50\n"
     ]
    }
   ],
   "source": [
    "x = 1\n",
    "valor = float(input(\"Digite o preço do Pão: \"))\n",
    "print(\"Panificadora Pão de Ontem - Tabela de preços\")\n",
    "while x <= 50:\n",
    "    print(\"%02.d - R$ %.2f\" %(x,x*valor))\n",
    "    x +=1\n",
    "    \n"
   ]
  },
  {
   "cell_type": "markdown",
   "metadata": {},
   "source": [
    "22) O Sr. Manoel Joaquim expandiu seus negócios para além dos negócios de 1,99 e agora possui uma loja de conveniências. Faça um programa que implemente uma caixa registradora rudimentar. O programa deverá receber um número desconhecido de valores referentes aos preços das mercadorias. Um valor zero deve ser informado pelo operador para indicar o final da compra. O programa deve então mostrar o total da compra e perguntar o valor em dinheiro que o cliente forneceu, para então calcular e mostrar o valor do troco. Após esta operação, o programa deverá voltar ao ponto inicial, para registrar a próxima compra. A saída deve ser conforme o exemplo abaixo: <BR>\n",
    " Lojas Tabajara  <BR>\n",
    "- Produto 1: RS 2.20 \n",
    "- Produto 2: RS 5.80 \n",
    "- Produto 3: RS 0 \n",
    "-   Total: RS 9.00 \n",
    "-   Dinheiro: RS 20.00 \n",
    "-   Troco: RS 11.00 ... "
   ]
  },
  {
   "cell_type": "code",
   "execution_count": 35,
   "metadata": {},
   "outputs": [
    {
     "name": "stdout",
     "output_type": "stream",
     "text": [
      "Lojas Tabajara\n",
      "Produto 1 : 5\n",
      "Produto 2 : 2\n",
      "Produto 3 : 0\n",
      "Total: R$  7.0\n",
      "Dinheiro: 8\n",
      "Troco:  1.0\n",
      "Nova Compra ? S/N N\n"
     ]
    }
   ],
   "source": [
    "saida = ''\n",
    "while saida != 'N':\n",
    "    valor = ''\n",
    "    n=0\n",
    "    total = 0\n",
    "    print(\"Lojas Tabajara\")\n",
    "    while valor != 0:\n",
    "        n+=1\n",
    "        valor = float(input(\"Produto %d : \" %n))\n",
    "        total += valor\n",
    "    print(\"Total: R$ \", total)\n",
    "    dinheiro = float(input(\"Dinheiro: \"))\n",
    "    if dinheiro > total:\n",
    "        print(\"Troco: \", dinheiro - total)\n",
    "    elif dinheiro == total:\n",
    "        print(\"Não tem troco\")\n",
    "    else: \n",
    "        print(\"Dinheiro insuficiente\")\n",
    "    saida= input(\"Nova Compra ? S/N \")\n"
   ]
  },
  {
   "cell_type": "markdown",
   "metadata": {},
   "source": [
    "23)Foi feita uma estatística em cinco cidades brasileiras para coletar dados sobre acidentes de trânsito. Foram obtidos os seguintes dados: \n",
    "- Código da cidade; \n",
    "- Número de veículos de passeio (em 1999); \n",
    "- Número de acidentes de trânsito com vítimas (em 1999). <br>\n",
    " Deseja-se saber: \n",
    " - Qual o maior e menor índice de acidentes de transito e a que cidade pertence; \n",
    " - Qual a média de veículos nas cinco cidades juntas; \n",
    " - Qual a média de acidentes de trânsito nas cidades com menos de 2.000 veículos de passeio. "
   ]
  },
  {
   "cell_type": "code",
   "execution_count": 34,
   "metadata": {},
   "outputs": [
    {
     "name": "stdout",
     "output_type": "stream",
     "text": [
      "Codigo Cidade: SP\n",
      "Número de veículos de passeio (em 1999):  2555\n",
      "Número de acidentes de trânsito com vítimas (em 1999): 25\n",
      "Codigo Cidade: RJ\n",
      "Número de veículos de passeio (em 1999):  3000\n",
      "Número de acidentes de trânsito com vítimas (em 1999): 36\n",
      "Codigo Cidade: MG\n",
      "Número de veículos de passeio (em 1999):  4144\n",
      "Número de acidentes de trânsito com vítimas (em 1999): 257\n",
      "Codigo Cidade: BH\n",
      "Número de veículos de passeio (em 1999):  122\n",
      "Número de acidentes de trânsito com vítimas (em 1999): 2\n",
      "Codigo Cidade: AC\n",
      "Número de veículos de passeio (em 1999):  2\n",
      "Número de acidentes de trânsito com vítimas (em 1999): 0\n",
      " MG foi a acidade com maior Indice de Acidente com 257 acidentes \n",
      " AC foi a acidade com menor Indice de Acidente com 0 acidentes \n",
      "A média de veículos nas cinco cidades juntas é:  1964.6\n",
      "Media de acidentes de trânsito nas cidades com menos de 2.000 veículos de passeio:  106.0\n"
     ]
    }
   ],
   "source": [
    "cod_cidade=''\n",
    "maior_veic= 0\n",
    "menor_veic=0\n",
    "maior_cid=''\n",
    "menor_cid=''\n",
    "num_veic=0\n",
    "num_acidentes = 0\n",
    "total_veic=0 \n",
    "media_acidente=0\n",
    "count=0\n",
    "if maior_veic > num_acidentes:\n",
    "    maior_veic = num_acidentes\n",
    "    maior_cid=cod_cidade\n",
    "                        \n",
    "for c in range(1,6):\n",
    "    cod_cidade = input(\"Codigo Cidade: \")\n",
    "    num_veic= int(input(\"Número de veículos de passeio (em 1999):  \"))\n",
    "    num_acidentes= (int(input(\"Número de acidentes de trânsito com vítimas (em 1999): \")))\n",
    "    total_veic += num_veic\n",
    "    \n",
    "    if num_veic > 2000:\n",
    "        media_acidente+=num_acidentes\n",
    "        count+=1\n",
    "    \n",
    "    if maior_veic < num_acidentes:\n",
    "        maior_veic = num_acidentes\n",
    "        maior_cid=cod_cidade\n",
    "        \n",
    "    if menor_veic > num_acidentes or c==1:\n",
    "        menor_veic = num_acidentes\n",
    "        menor_cid = cod_cidade\n",
    "\n",
    "print(\" {} foi a acidade com maior Indice de Acidente com {} acidentes \".format(maior_cid, maior_veic))\n",
    "print(\" {} foi a acidade com menor Indice de Acidente com {} acidentes \".format(menor_cid, menor_veic))\n",
    "print(\"A média de veículos nas cinco cidades juntas é: \", total_veic/c)\n",
    "print(\"Media de acidentes de trânsito nas cidades com menos de 2.000 veículos de passeio: \", media_acidente/count)\n",
    "    "
   ]
  },
  {
   "cell_type": "markdown",
   "metadata": {},
   "source": [
    "24) Faça um programa que receba o valor de uma dívida e mostre uma tabela com os seguintes dados: valor da dívida, valor dos juros, quantidade de parcelas e valor da parcela.\n",
    "\n",
    "Os juros e a quantidade de parcelas seguem a tabela abaixo:\n",
    "\n",
    "Quantidade de Parcelas % de Juros sobre o valor inicial da dívida\n",
    "\n",
    "1 0\n",
    "\n",
    "3 10\n",
    "\n",
    "6 15\n",
    "\n",
    "9 20\n",
    "\n",
    "12 25\n",
    "\n",
    "Exemplo de saída do programa:\n",
    "\n",
    "Valor da Dívida - Valor dos Juros - Quantidade de Parcelas - Valor da Parcela\n",
    "\n",
    "RS 1.000,00 - 0 - 1 - RS 1.000,00\n",
    "RS 1.100,00 - 100 - 3 - RS 366,00\n",
    "RS 1.150,00 - 150 - 6 - RS 191,67"
   ]
  },
  {
   "cell_type": "code",
   "execution_count": 35,
   "metadata": {},
   "outputs": [
    {
     "name": "stdout",
     "output_type": "stream",
     "text": [
      "Digite o valor da divida: 522\n",
      "Valor da divida:   Valor do juros:   Quantidade de parcelas:   Valor da parcela: \n",
      "R$ 522.0            0.0                  1                        R$  522.0\n",
      "R$ 574.2            52.2                  3                        R$  191.4\n",
      "R$ 600.3            78.3                  6                        R$  100.05\n",
      "R$ 626.4            104.4                  9                        R$  69.6\n",
      "R$ 652.5            130.5                  12                        R$  54.38\n"
     ]
    }
   ],
   "source": [
    "divida = float(input(\"Digite o valor da divida: \"))\n",
    "parcela = 1\n",
    "\n",
    "print(\"Valor da divida: \", end=\"  \")\n",
    "print(\"Valor do juros: \", end=\"  \")\n",
    "print(\"Quantidade de parcelas: \", end=\"  \")\n",
    "print(\"Valor da parcela: \")\n",
    "\n",
    "for i in range(5):\n",
    "    if parcela == 1:\n",
    "        juros = 1\n",
    "        valor_juros = 0\n",
    "    elif parcela == 4:\n",
    "        parcela = 3\n",
    "        juros = 1.10\n",
    "    elif parcela == 7 or parcela == 6:\n",
    "        parcela = 6\n",
    "        juros = 1.15\n",
    "    elif parcela == 10 or parcela == 9:\n",
    "        parcela = 9\n",
    "        juros = 1.20\n",
    "    elif parcela == 13 or parcela == 12:\n",
    "        parcela = 12\n",
    "        juros = 1.25\n",
    "\n",
    "    valor_juros = divida * (juros - 1)\n",
    "    divida_com_juros = divida * juros\n",
    "    valor_parcela = divida_com_juros / parcela\n",
    "\n",
    "    print(\"R$\", round(divida_com_juros, 2), end=\"            \")\n",
    "    print(round(valor_juros, 2), end=\"                  \")\n",
    "    print(parcela, end=\"                        \")\n",
    "    print(\"R$ \", round(valor_parcela, 2))\n",
    "    parcela += 3"
   ]
  },
  {
   "cell_type": "markdown",
   "metadata": {},
   "source": [
    "25) Faça um programa que mostre os n termos da Série a seguir:<BR>\n",
    "    S = 1/1 + 2/3 + 3/5 + 4/7 + 5/9 + ... + n/m.  \n",
    "    Imprima no final a soma da série. \n",
    " "
   ]
  },
  {
   "cell_type": "code",
   "execution_count": 36,
   "metadata": {},
   "outputs": [
    {
     "name": "stdout",
     "output_type": "stream",
     "text": [
      "S = 1 / 1  + 2 / 3  + 3 / 5  + 4 / 7  + 5 / 9  + 6 / 11  + 7 / 13  + 8 / 15  + 9 / 17  + 10 / 19  =  45 / 81\n"
     ]
    }
   ],
   "source": [
    "n1 = 1\n",
    "n2 = 1\n",
    "n1_lista = []\n",
    "n2_lista = []\n",
    "print(\"S = \", end = \"\")\n",
    "while n1 <= 10 -1:\n",
    "    print(n1, \"/\", n2, \" + \", end=\"\")\n",
    "    n1_lista.append(n1)\n",
    "    n2_lista.append(n2)\n",
    "    n1 += 1\n",
    "    n2 += 2\n",
    "\n",
    "print(n1, \"/\", n2, \" = \", sum(n1_lista), \"/\", sum(n2_lista))"
   ]
  },
  {
   "cell_type": "code",
   "execution_count": null,
   "metadata": {},
   "outputs": [],
   "source": []
  }
 ],
 "metadata": {
  "kernelspec": {
   "display_name": "Python 3",
   "language": "python",
   "name": "python3"
  },
  "language_info": {
   "codemirror_mode": {
    "name": "ipython",
    "version": 3
   },
   "file_extension": ".py",
   "mimetype": "text/x-python",
   "name": "python",
   "nbconvert_exporter": "python",
   "pygments_lexer": "ipython3",
   "version": "3.7.3"
  }
 },
 "nbformat": 4,
 "nbformat_minor": 2
}
