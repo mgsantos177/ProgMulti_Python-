{
 "cells": [
  {
   "cell_type": "markdown",
   "metadata": {},
   "source": [
    "# Exercício 11\n",
    "**Nome**: Matheus Gonçalves Santos<br>\n",
    "**RA**: 818146687"
   ]
  },
  {
   "cell_type": "markdown",
   "metadata": {},
   "source": [
    "1) Menor de dois pares: Escreva uma função que retorne o menor de dois números dados se ambos os números forem pares, mas retorna o maior se um dos dois for ímpar. <br>\n",
    "Exemplo: menor_de_dois_pares(2,4) -->2  <br>menor_de_dois_pares (2,5) --> 5 "
   ]
  },
  {
   "cell_type": "code",
   "execution_count": 7,
   "metadata": {},
   "outputs": [
    {
     "data": {
      "text/plain": [
       "14"
      ]
     },
     "execution_count": 7,
     "metadata": {},
     "output_type": "execute_result"
    }
   ],
   "source": [
    "def menor_de_dois_pares(num,num2):\n",
    "    if num % 2 == 0  and num2 % 2 == 0:\n",
    "        if num < num2:\n",
    "            return num2\n",
    "        else: \n",
    "            return num\n",
    "    elif num > num2:\n",
    "        return num2\n",
    "    else:\n",
    "        return num\n",
    "    \n",
    "    \n",
    "menor_de_dois_pares(21,14)"
   ]
  },
  {
   "cell_type": "code",
   "execution_count": 10,
   "metadata": {},
   "outputs": [
    {
     "data": {
      "text/plain": [
       "14"
      ]
     },
     "execution_count": 10,
     "metadata": {},
     "output_type": "execute_result"
    }
   ],
   "source": [
    "\n",
    "menor_de_dois_pares(14,15)"
   ]
  },
  {
   "cell_type": "markdown",
   "metadata": {},
   "source": [
    "2) Mesma letra: Escreva uma função que receba uma string com duas palavras e retorne True se ambas palavras começarem com a mesma letra. Exemplo: <br>\n",
    " mesma_letra('Cão covarde') -> True  <br> mesma_letra('Vira Lata') -> False "
   ]
  },
  {
   "cell_type": "code",
   "execution_count": 14,
   "metadata": {},
   "outputs": [
    {
     "name": "stdout",
     "output_type": "stream",
     "text": [
      "Digite 2 palavras: Range Rover\n"
     ]
    },
    {
     "data": {
      "text/plain": [
       "True"
      ]
     },
     "execution_count": 14,
     "metadata": {},
     "output_type": "execute_result"
    }
   ],
   "source": [
    "def mesma_letra(entrada):\n",
    "        palavras = entrada.split()\n",
    "        if palavras[0][0]== palavras[1][0]:\n",
    "            return True\n",
    "        else:\n",
    "            return False\n",
    "\n",
    "entrada= input(\"Digite 2 palavras: \")\n",
    "mesma_letra(entrada)"
   ]
  },
  {
   "cell_type": "code",
   "execution_count": 13,
   "metadata": {},
   "outputs": [
    {
     "data": {
      "text/plain": [
       "False"
      ]
     },
     "execution_count": 13,
     "metadata": {},
     "output_type": "execute_result"
    }
   ],
   "source": [
    "mesma_letra('Caceta Ondular')"
   ]
  },
  {
   "cell_type": "markdown",
   "metadata": {},
   "source": [
    "3) Mestre Yoda: Dada uma sentença, a função deve retornar a sentença com as palavras na ordem reversa. Exemplo: <br>\n",
    " mestre_yoda('Eu estou em casa') --> 'casa em estou Eu' <br>mestre_yoda('Estamos prontos') --> 'prontos Estamos'"
   ]
  },
  {
   "cell_type": "code",
   "execution_count": 18,
   "metadata": {},
   "outputs": [
    {
     "name": "stdout",
     "output_type": "stream",
     "text": [
      "Digite uma frase: Estou cansado de estudar e trabalhar\n",
      "trabalhar e estudar de cansado Estou "
     ]
    }
   ],
   "source": [
    "def mestre_yoda(entrada):\n",
    "    for i in reversed(entrada.split(' ')):\n",
    "        print(i, end = \" \")\n",
    "        \n",
    "x= input(\"Digite uma frase: \")\n",
    "mestre_yoda(x)"
   ]
  },
  {
   "cell_type": "markdown",
   "metadata": {},
   "source": [
    "4) Tem 33: Faça uma função que retorne True se, dada uma lista de inteiros, houver em alguma posição da lista um 3 do lado de outro 3. Exemplo: <br>\n",
    " tem_33([1,3,3]) --> True <br> tem_33([1,3,1,3]) --> False <br> tem_33([3,1,3]) --> False "
   ]
  },
  {
   "cell_type": "code",
   "execution_count": 19,
   "metadata": {},
   "outputs": [
    {
     "name": "stdout",
     "output_type": "stream",
     "text": [
      "True False True\n"
     ]
    }
   ],
   "source": [
    "def tem_33(arg):\n",
    "    temTres = False\n",
    "    for i in arg:\n",
    "        if i == 3:\n",
    "            if temTres is True:\n",
    "                return True\n",
    "            else:\n",
    "                temTres = True\n",
    "        else:\n",
    "            temTres = False\n",
    "    else:\n",
    "        return False\n",
    "    \n",
    "x = tem_33([1,3,3])\n",
    "y = tem_33([1,3,1,3])\n",
    "z = tem_33([3,1,3,3])\n",
    "print(x,y,z)"
   ]
  },
  {
   "cell_type": "markdown",
   "metadata": {},
   "source": [
    "5) Blackjack: Faça uma função que receba 3 inteiros entre 1 e 11. Se a soma deles for menor que 21, retorne o valor da soma. Se for mair do que 21 e houver um 11, subtraia 10 da soma antes de apresentar o resultado. Se o valor da soma passar de 21, retorne ‘ESTOUROU’. Exemplo: <br>\n",
    " blackjack(5,6,7) --> 18 <br>blackjack(9,9,9) --> 'ESTOUROU' <br>blackjack(9,9,11) --> 19 \n",
    " "
   ]
  },
  {
   "cell_type": "code",
   "execution_count": 27,
   "metadata": {},
   "outputs": [
    {
     "name": "stdout",
     "output_type": "stream",
     "text": [
      "Digite o primeiro valor: 11\n",
      "Digite o segundo valor: 10\n",
      "Digite o terceiro valor: 1\n"
     ]
    },
    {
     "data": {
      "text/plain": [
       "12"
      ]
     },
     "execution_count": 27,
     "metadata": {},
     "output_type": "execute_result"
    }
   ],
   "source": [
    "def blackjack(arg1,arg2,arg3):\n",
    "    if 1 < arg1 > 11 or 1 < arg2 > 11 or 1 < arg3 > 11:\n",
    "        print(\"Erro, apenas valores entre 1 e 11\")\n",
    "        \n",
    "    else:\n",
    "        soma = arg1 + arg2 + arg3\n",
    "        if soma < 21:\n",
    "            return soma\n",
    "        elif soma > 21 and arg1 == 11 or arg2 == 11 or arg3 == 11:\n",
    "            soma -= 10\n",
    "            return soma\n",
    "        elif soma > 21:\n",
    "            soma = \"Estourou\"\n",
    "            return soma\n",
    "        elif soma ==21:\n",
    "            soma= \"GANHOU\"\n",
    "            return soma\n",
    "\n",
    "        \n",
    "arg1 = int(input(\"Digite o primeiro valor: \"))\n",
    "arg2 = int(input(\"Digite o segundo valor: \"))\n",
    "arg3 = int(input(\"Digite o terceiro valor: \"))\n",
    "\n",
    "blackjack(arg1,arg2,arg3)\n"
   ]
  },
  {
   "cell_type": "markdown",
   "metadata": {},
   "source": [
    "6) Espião: Escreva uma função que receba uma lista de inteiros e retorne True se contém um 007 em ordem, mesmo que não contínuo. Exemplo: <br> \n",
    " espiao([1,2,4,0,0,7,5]) --> True <br> espiao([1,0,2,4,0,5,7]) --> True <br>\n",
    "espiao([1,7,2,4,0,5,0]) --> False"
   ]
  },
  {
   "cell_type": "code",
   "execution_count": 29,
   "metadata": {},
   "outputs": [
    {
     "name": "stdout",
     "output_type": "stream",
     "text": [
      "True True False\n"
     ]
    }
   ],
   "source": [
    "def espiao(arg):\n",
    "    zero= False\n",
    "    zero2= False\n",
    "    sete = False\n",
    "    \n",
    "    for i in arg:\n",
    "        if i == 0:\n",
    "            if sete is False:\n",
    "                if zero is False and zero2 is False:\n",
    "                    zero = True\n",
    "                elif zero is True and zero2 is False:\n",
    "                    zero2= True\n",
    "                else:\n",
    "                    return False\n",
    "        elif i == 7:\n",
    "            if zero is True and zero2 is True:\n",
    "                return True\n",
    "            else:\n",
    "                return False\n",
    "            \n",
    "x = espiao([0,0,7,8,5])\n",
    "y = espiao([0,5,0,8,53,7])\n",
    "z = espiao([0,7,5,3,0,7])\n",
    "\n",
    "print(x,y,z)\n",
    "    "
   ]
  },
  {
   "cell_type": "markdown",
   "metadata": {},
   "source": [
    "7) Linha: Crie a classe Linha que tem dois atributos, coordenada1 e coordenada2. Cada coordenada é uma tupla que carrega duas coordenadas cartesianas (x,y) que denotam pontos do segmento de reta. Faça métodos que calculem o comprimento do segmento de reta e sua inclinação. "
   ]
  },
  {
   "cell_type": "code",
   "execution_count": 32,
   "metadata": {},
   "outputs": [
    {
     "name": "stdout",
     "output_type": "stream",
     "text": [
      "O comprinto é de tamanho: 2.24  \n",
      "A inclinacao é de tamanho:  2.0\n"
     ]
    }
   ],
   "source": [
    "import math\n",
    "class Linha:\n",
    "    def __init__(self,coor1,coor2):\n",
    "        self.coor1 = coor1\n",
    "        self.coor2 = coor2\n",
    "\n",
    "    def calcularComprimento(self,coor1,coor2):\n",
    "        a,b = coor1\n",
    "        c,d = coor2\n",
    "        return math.sqrt(((b - a)**2) + ((d - c)**2))\n",
    "    \n",
    "    def calcularInclinacao(self,coor1,coor2):\n",
    "        a,b = coor1\n",
    "        c,d = coor2\n",
    "        return ((d - c)/(b - a))\n",
    "    \n",
    "t1=(2,3)\n",
    "t2=(2,4)\n",
    "l = Linha(t1,t2)\n",
    "\n",
    "print(\"O comprinto é de tamanho: %.2f  \" %(l.calcularComprimento(t1,t2)))\n",
    "print(\"A inclinacao é de tamanho:  \" + str(l.calcularInclinacao(t1,t2)))"
   ]
  },
  {
   "cell_type": "markdown",
   "metadata": {},
   "source": [
    "8) Figuras: Crie a seguinte hierarquia de classes de figuras geométricas. Veja na figura as fórmulas: <br>  \n",
    "a. A classe abstrata Figura deve ter o método abstrato area.  \n",
    "b. A classe concreta Circulo é subclasse de Figura.  \n",
    "c. A classe abstrata Poligono é subclasse de Figura e deve ter os atributos base e altura .  \n",
    "d. As classes concretas Triangulo, Losango, Retangulo e Quadrado são subclasses de Poligono. Tente criar mais uma generalização aqui olhando as fórmulas da área.  \n",
    "e. Os polígonos Retangulo e Quadrado devem implementar a interface Diagonal, que deve ter um método que calcula a diagonal.  \n",
    "f. Crie uma classe Geometria com uma lista de Figuras com pelo menos uma figura de cada e imprima suas áreas, perímetros e diagonais"
   ]
  },
  {
   "cell_type": "code",
   "execution_count": null,
   "metadata": {},
   "outputs": [],
   "source": [
    "class Figura:\n",
    "    def area(self):\n",
    "        raise NotImplementedError(\n",
    "            \"A subclasse deve implementar o método abstrato\")\n",
    "    def perimetro(self):\n",
    "        raise NotImplementedError(\n",
    "            \"A subclasse deve implementar o método abstrato\")\n",
    "        \n",
    "from math import pi\n",
    "class Circulo(Figura):\n",
    "    def __init__(self, raio):\n",
    "        self.raio = raio\n",
    "    def area(self):\n",
    "        return self.raio**2 * pi\n",
    "    \n",
    "    def perimetro(self):\n",
    "        return 2*pi*self.raio\n",
    "\n",
    "from math import sqrt\n",
    "\n",
    "class Poligono(Figura):\n",
    "    def __init__(self,base,altura):\n",
    "        self._base=base\n",
    "        self._altura=altura\n",
    "        \n",
    "    def area(self):\n",
    "        return self._base * self._altura\n",
    "\n",
    "\n",
    "class Diagonal:\n",
    "    def __init__(self,base,altura):\n",
    "        self._base=base\n",
    "        self._altura=altura\n",
    "        \n",
    "    def diagonal(self):\n",
    "        return sqrt(self._base**2 + self._altura**2)\n",
    "    \n",
    "class Quadrilatero(Figura):\n",
    "    def __init__(self,base,altura):\n",
    "        self._base=base\n",
    "        self._altura=altura\n",
    "        \n",
    "    def perimetro(self):\n",
    "        return (self._base*2 + self._altura*2)\n",
    "        \n",
    "\n",
    "class Quadrado(Poligono,Diagonal,Quadrilatero):\n",
    "    def __init__(self,lado):\n",
    "        Poligono.__init__(self,lado,lado)\n",
    "        Diagonal.__init__(self,lado,lado)\n",
    "        Quadrilatero.__init__(self,lado,lado)\n",
    "    \n",
    "class Retangulo(Poligono,Diagonal,Quadrilatero):\n",
    "    def __init__(self,base,altura):\n",
    "        Poligono.__init__(self,base,altura)\n",
    "        Diagonal.__init__(self,base,altura)\n",
    "        Quadrilatero.__init__(self,base,altura)\n",
    "        \n",
    "class Losango(Poligono,Quadrilatero):\n",
    "    def __init__(self,base,altura):\n",
    "        Poligono.__init__(self,base,altura)\n",
    "        Quadrilatero.__init__(self,base,altura)\n",
    "\n",
    "\n",
    "class Triangulo(Figura):\n",
    "    def __init__(self,lado1,lado2,lado3):\n",
    "        if lado1>=lado2+lado3 or lado2>=lado1+lado3 or lado3>=lado1+lado2:\n",
    "            raise Eception(\"Não é um triângulo\")\n",
    "            \n",
    "        self._lado1 = lado1\n",
    "        self._lado2 = lado2\n",
    "        self._lado3 = lado3\n",
    "    \n",
    "    def perimetro(self):\n",
    "        return self._lado1 + self._lado2 + self._lado3\n",
    "    \n",
    "    def area(self):\n",
    "        s = self.perimetro()/2\n",
    "        return sqrt(s*(s-self._lado1)*(s-self._lado2)*(s-self._lado3))\n",
    "    \n",
    "class Geometria:\n",
    "    pass\n",
    "\n",
    "figuras = [Circulo(3), Quadrado(2), Retangulo(2,3), Triangulo(2,3,4), Losango(3,2)]\n",
    "for figura in figuras:\n",
    "    print(str(type(figura))+'-'*60)\n",
    "    # todo mundo sabe calcular area e perimetro\n",
    "    print('área: %.2f' % (figura.area()))\n",
    "    print('perímetro: %.2f' % (figura.perimetro()))\n",
    "    if isinstance(figura,Diagonal):\n",
    "        print('diagonal: %.2f' % (figura.diagonal()))"
   ]
  },
  {
   "cell_type": "markdown",
   "metadata": {},
   "source": [
    "9) Jogo de Blacjack: Faça um joguinho simples em Python. <BR>\n",
    " \n",
    "Aqui estão os requisitos: \n",
    "- Você precisa criar um jogo de BlackJack (21) baseado em texto simples \n",
    "- O jogo precisa ter um jogador contra um croupier automatizado. \n",
    "- O jogador pode desistir ou bater. \n",
    "- O jogador deve ser capaz de escolher o seu valor de aposta. \n",
    "- Você precisa acompanhar o dinheiro total do jogador. \n",
    "- Você precisa alertar o jogador de vitórias, derrotas ou estouros, etc ... \n",
    " \n",
    "E o mais importante: \n",
    " \n",
    "Você deve usar OOP e classes em alguma parte do seu jogo. Você não pode simplesmente usar funções no seu jogo. Use classes para ajudá-lo a definir o deck e a mão do jogador. Há muitas maneiras certas de fazer isso, então explore bem! "
   ]
  },
  {
   "cell_type": "code",
   "execution_count": null,
   "metadata": {},
   "outputs": [],
   "source": [
    "import random\n",
    "\n",
    "class carta:\n",
    "    manilha =\"\"\n",
    "    valor=0\n",
    "    index=0\n",
    "    def __init__(self,manilha,valor,index):\n",
    "        self.manilha = manilha\n",
    "        self.valor = valor\n",
    "        self.index= index\n",
    "\n",
    "    def __str__(self):\n",
    "        return f\"manilha {self.manilha} : valor {self.valor}\"\n",
    "\n",
    "def card_deck():\n",
    "    card_value = ['A','2','3','4','5','6','7','8','9','10','J','Q','K']\n",
    "    card_type = ['Copas','Espadas','Paus','Ouros']\n",
    "    deck = []\n",
    "    k  = 0\n",
    "    for i in card_type:\n",
    "        for j in card_value:\n",
    "            k+=1\n",
    "            cartas = carta(i,j,k)\n",
    "            deck.append(cartas)\n",
    "    return deck\n",
    "\n",
    "def carta_valor(carta,rodada):\n",
    "    if((carta.valor =='10')or (carta.valor =='J')or(carta.valor =='Q')or(carta.valor =='K')):\n",
    "        return 10\n",
    "    elif(carta.valor=='A'):\n",
    "        if(rodada==1):\n",
    "            return 11\n",
    "        else:\n",
    "            return 1\n",
    "    else:\n",
    "        return int(carta.valor)\n",
    "\n",
    "def cartas_ini(deck):\n",
    "    return  random.sample(deck,2)\n",
    "\n",
    "def carta_add(deck):\n",
    "    carta= random.sample(deck,1)\n",
    "    remove_from_deck(carta[0],deck)\n",
    "    print(carta)\n",
    "    return carta[0]\n",
    "\n",
    "def mao_atual(mao,soma):\n",
    "    for carta in mao:\n",
    "        print(carta)\n",
    "    print(f\"Soma Cartas: {soma}\")\n",
    "\n",
    "def remove_from_deck(carta,deck):\n",
    "    deck.pop(int(carta.index))\n",
    "    \n",
    "def partida():\n",
    "    deck = card_deck()\n",
    "    print(len(deck))\n",
    "    mao = cartas_ini(deck)\n",
    "    soma =  0\n",
    "    rodada = 1\n",
    "    while soma<21:\n",
    "        if rodada ==1:\n",
    "            for cartas in mao:\n",
    "                remove_from_deck(cartas,deck)\n",
    "                soma+= carta_valor(cartas,1)\n",
    "                print(soma)\n",
    "        else:\n",
    "            cont = input(\"Quer mais uma ?(S/N)\\n\")\n",
    "            if cont.upper() ==\"S\":\n",
    "                carta =carta_add(deck)\n",
    "                mao.append(carta)\n",
    "                soma+= carta_valor(carta,2)\n",
    "\n",
    "                pass\n",
    "            else:\n",
    "                break\n",
    "                \n",
    "        mao_atual(mao,soma)\n",
    "\n",
    "        rodada+=1\n",
    "\n",
    "    if soma==21:\n",
    "        print(\"Ganhou!\")\n",
    "    elif soma>21:\n",
    "        print(\"Perdeu\")\n",
    "    else:\n",
    "        print(\"Você desistiu!\")\n"
   ]
  },
  {
   "cell_type": "code",
   "execution_count": null,
   "metadata": {},
   "outputs": [],
   "source": [
    "partida()"
   ]
  },
  {
   "cell_type": "code",
   "execution_count": null,
   "metadata": {},
   "outputs": [],
   "source": []
  }
 ],
 "metadata": {
  "kernelspec": {
   "display_name": "Python 3",
   "language": "python",
   "name": "python3"
  },
  "language_info": {
   "codemirror_mode": {
    "name": "ipython",
    "version": 3
   },
   "file_extension": ".py",
   "mimetype": "text/x-python",
   "name": "python",
   "nbconvert_exporter": "python",
   "pygments_lexer": "ipython3",
   "version": "3.7.3"
  }
 },
 "nbformat": 4,
 "nbformat_minor": 2
}
